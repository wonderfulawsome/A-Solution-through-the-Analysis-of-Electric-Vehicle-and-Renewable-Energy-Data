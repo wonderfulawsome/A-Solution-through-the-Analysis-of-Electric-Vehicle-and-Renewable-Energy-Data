{
 "cells": [
  {
   "cell_type": "markdown",
   "id": "ed6836ec",
   "metadata": {},
   "source": [
    "# 평균 차량의 CO2 배출량"
   ]
  },
  {
   "cell_type": "code",
   "execution_count": 2,
   "id": "04438cad",
   "metadata": {},
   "outputs": [
    {
     "data": {
      "text/plain": [
       "['co2_emmision_test_data.csv', 'co2_emmision_train_data.csv']"
      ]
     },
     "execution_count": 2,
     "metadata": {},
     "output_type": "execute_result"
    }
   ],
   "source": [
    "import zipfile\n",
    "import os\n",
    "\n",
    "# Extracting and inspecting the contents of the new zip file\n",
    "zip_file_path_new = 'C:/Users/82106/Desktop/데이터분석 프로젝트/빅데이터 공모전/전기자동차/archive9.zip'\n",
    "extracted_folder_path_new = 'C:/Users/82106/Desktop/데이터분석 프로젝트/빅데이터 공모전/전기자동차/extracted_dataset_new/'\n",
    "\n",
    "# Extracting the zip file\n",
    "with zipfile.ZipFile(zip_file_path_new, 'r') as zip_ref:\n",
    "    zip_ref.extractall(extracted_folder_path_new)\n",
    "\n",
    "# Listing the contents of the extracted folder\n",
    "extracted_files_new = os.listdir(extracted_folder_path_new)\n",
    "extracted_files_new\n"
   ]
  },
  {
   "cell_type": "code",
   "execution_count": 3,
   "id": "44e17d68",
   "metadata": {},
   "outputs": [
    {
     "data": {
      "text/plain": [
       "['co2_emmision_test_data.csv', 'co2_emmision_train_data.csv']"
      ]
     },
     "execution_count": 3,
     "metadata": {},
     "output_type": "execute_result"
    }
   ],
   "source": [
    "import os\n",
    "\n",
    "# Re-attempting to list the contents of the newly extracted folder\n",
    "extracted_files_new = os.listdir(extracted_folder_path_new)\n",
    "extracted_files_new\n"
   ]
  },
  {
   "cell_type": "code",
   "execution_count": 5,
   "id": "aef8d9ce",
   "metadata": {
    "scrolled": true
   },
   "outputs": [
    {
     "data": {
      "text/plain": [
       "(     Year   Make              Model  Vehicle Class  Engine Size (L)  \\\n",
       " 0  2023.0  Acura            Integra      Full-size              1.5   \n",
       " 1  2023.0  Acura     Integra A-SPEC      Full-size              1.5   \n",
       " 2  2023.0  Acura     Integra A-SPEC      Full-size              1.5   \n",
       " 3  2023.0  Acura         MDX SH-AWD     SUV: Small              3.5   \n",
       " 4  2023.0  Acura  MDX SH-AWD Type S  SUV: Standard              3.0   \n",
       " \n",
       "    Cylinders Transmission Fuel Type  Fuel Consumption [City (L/100 km)]  \\\n",
       " 0        4.0          AV7         Z                                 7.9   \n",
       " 1        4.0          AV7         Z                                 8.1   \n",
       " 2        4.0           M6         Z                                 8.9   \n",
       " 3        6.0         AS10         Z                                12.6   \n",
       " 4        6.0         AS10         Z                                13.8   \n",
       " \n",
       "    Fuel Consumption [Hwy (L/100 km)]  ...  Range 1 (km)  Recharge Time (h)  \\\n",
       " 0                                6.3  ...           NaN                NaN   \n",
       " 1                                6.5  ...           NaN                NaN   \n",
       " 2                                6.5  ...           NaN                NaN   \n",
       " 3                                9.4  ...           NaN                NaN   \n",
       " 4                               11.2  ...           NaN                NaN   \n",
       " \n",
       "    Fuel Type 2 Range 2 (km) Fuel Consumption [City (kWh/100 km)]  \\\n",
       " 0          NaN          NaN                                  NaN   \n",
       " 1          NaN          NaN                                  NaN   \n",
       " 2          NaN          NaN                                  NaN   \n",
       " 3          NaN          NaN                                  NaN   \n",
       " 4          NaN          NaN                                  NaN   \n",
       " \n",
       "    Fuel Consumption [Comb (kWh/100 km)]  Consumption [City (Le/100 km)]  \\\n",
       " 0                                   NaN                             NaN   \n",
       " 1                                   NaN                             NaN   \n",
       " 2                                   NaN                             NaN   \n",
       " 3                                   NaN                             NaN   \n",
       " 4                                   NaN                             NaN   \n",
       " \n",
       "   Consumption [Hwy (Le/100 km)]  Consumption [Comb (Le/100 km)]  Range (km)  \n",
       " 0                           NaN                             NaN         NaN  \n",
       " 1                           NaN                             NaN         NaN  \n",
       " 2                           NaN                             NaN         NaN  \n",
       " 3                           NaN                             NaN         NaN  \n",
       " 4                           NaN                             NaN         NaN  \n",
       " \n",
       " [5 rows x 25 columns],\n",
       "      Year   Make       Model  Vehicle Class  Engine Size (L)  Cylinders  \\\n",
       " 0  2022.0  Acura         ILX        Compact              2.4        4.0   \n",
       " 1  2022.0  Acura  MDX SH-AWD     SUV: Small              3.5        6.0   \n",
       " 2  2022.0  Acura  MDX Type S  SUV: Standard              3.0        6.0   \n",
       " 3  2022.0  Acura         NSX     Two-seater              3.5        6.0   \n",
       " 4  2022.0  Acura  RDX SH-AWD     SUV: Small              2.0        4.0   \n",
       " \n",
       "   Transmission Fuel Type  Fuel Consumption [City (L/100 km)]  \\\n",
       " 0          AM8         Z                                 9.9   \n",
       " 1         AS10         Z                                12.6   \n",
       " 2         AS10         Z                                13.8   \n",
       " 3          AM9         Z                                11.1   \n",
       " 4         AS10         Z                                11.0   \n",
       " \n",
       "    Fuel Consumption [Hwy (L/100 km)]  ...  Range 1 (km)  Recharge Time (h)  \\\n",
       " 0                                7.0  ...           NaN                NaN   \n",
       " 1                                9.4  ...           NaN                NaN   \n",
       " 2                               11.2  ...           NaN                NaN   \n",
       " 3                               10.8  ...           NaN                NaN   \n",
       " 4                                8.6  ...           NaN                NaN   \n",
       " \n",
       "    Fuel Type 2  Range 2 (km) Fuel Consumption [City (kWh/100 km)]  \\\n",
       " 0          NaN           NaN                                  NaN   \n",
       " 1          NaN           NaN                                  NaN   \n",
       " 2          NaN           NaN                                  NaN   \n",
       " 3          NaN           NaN                                  NaN   \n",
       " 4          NaN           NaN                                  NaN   \n",
       " \n",
       "   Fuel Consumption [Comb (kWh/100 km)]  Consumption [City (Le/100 km)]  \\\n",
       " 0                                  NaN                             NaN   \n",
       " 1                                  NaN                             NaN   \n",
       " 2                                  NaN                             NaN   \n",
       " 3                                  NaN                             NaN   \n",
       " 4                                  NaN                             NaN   \n",
       " \n",
       "    Consumption [Hwy (Le/100 km)] Consumption [Comb (Le/100 km)]  Range (km)  \n",
       " 0                            NaN                            NaN         NaN  \n",
       " 1                            NaN                            NaN         NaN  \n",
       " 2                            NaN                            NaN         NaN  \n",
       " 3                            NaN                            NaN         NaN  \n",
       " 4                            NaN                            NaN         NaN  \n",
       " \n",
       " [5 rows x 26 columns])"
      ]
     },
     "execution_count": 5,
     "metadata": {},
     "output_type": "execute_result"
    }
   ],
   "source": [
    "import pandas as pd\n",
    "\n",
    "# Loading the CSV files for a detailed inspection\n",
    "test_df = pd.read_csv(extracted_folder_path_new + 'co2_emmision_test_data.csv')\n",
    "train_df = pd.read_csv(extracted_folder_path_new + 'co2_emmision_train_data.csv')\n",
    "\n",
    "# Displaying the first few rows and column names of each dataset\n",
    "test_preview = test_df.head()\n",
    "train_preview = train_df.head()\n",
    "\n",
    "(test_preview, train_preview)\n"
   ]
  },
  {
   "cell_type": "code",
   "execution_count": 15,
   "id": "fe86c629",
   "metadata": {},
   "outputs": [
    {
     "data": {
      "text/plain": [
       "Index(['Year', 'Make', 'Model', 'Vehicle Class', 'Engine Size (L)',\n",
       "       'Cylinders', 'Transmission', 'Fuel Type',\n",
       "       'Fuel Consumption [City (L/100 km)]',\n",
       "       'Fuel Consumption [Hwy (L/100 km)]',\n",
       "       'Fuel Consumption [Comb (L/100 km)]', 'Fuel Consumption [Comb (mpg)]',\n",
       "       'CO2 Emissions (g/km)', 'Motor (kW)', 'Fuel Type 1',\n",
       "       'Fuel Consumption Combined Le/100 km', 'Range 1 (km)',\n",
       "       'Recharge Time (h)', 'Fuel Type 2', 'Range 2 (km)',\n",
       "       'Fuel Consumption [City (kWh/100 km)]',\n",
       "       'Fuel Consumption [Comb (kWh/100 km)]',\n",
       "       'Consumption [City (Le/100 km)]', 'Consumption [Hwy (Le/100 km)]',\n",
       "       'Consumption [Comb (Le/100 km)]', 'Range (km)'],\n",
       "      dtype='object')"
      ]
     },
     "execution_count": 15,
     "metadata": {},
     "output_type": "execute_result"
    }
   ],
   "source": [
    "train_df.columns"
   ]
  },
  {
   "cell_type": "code",
   "execution_count": 17,
   "id": "0a2600e7",
   "metadata": {},
   "outputs": [],
   "source": [
    "#한글폰트\n",
    "import matplotlib.pyplot as plt\n",
    "import matplotlib.font_manager as fm\n",
    "\n",
    "# 한글 폰트 경로 설정\n",
    "font_path = 'C:/Windows/Fonts/malgun.ttf'  # 여기서 'malgun.ttf'는 예시로 사용한 것이며, 실제 한글 폰트 파일로 변경해야 합니다.\n",
    "font_name = fm.FontProperties(fname=font_path).get_name()\n",
    "plt.rc('font', family=font_name)\n",
    "\n"
   ]
  },
  {
   "cell_type": "code",
   "execution_count": 18,
   "id": "65e68756",
   "metadata": {},
   "outputs": [
    {
     "data": {
      "image/png": "[encoded data removed]",
      "text/plain": [
       "<Figure size 720x432 with 1 Axes>"
      ]
     },
     "metadata": {
      "needs_background": "light"
     },
     "output_type": "display_data"
    }
   ],
   "source": [
    "import matplotlib.pyplot as plt\n",
    "import pandas as pd\n",
    "\n",
    "# CO2 배출량 데이터 추출\n",
    "co2_emissions = train_df['CO2 Emissions (g/km)']\n",
    "\n",
    "# 히스토그램 시각화\n",
    "plt.figure(figsize=(10, 6))\n",
    "plt.hist(co2_emissions, bins=30, edgecolor='k', alpha=0.7)\n",
    "plt.title('CO2 배출량 분포')\n",
    "plt.xlabel('CO2 배출량')\n",
    "plt.ylabel('빈도')\n",
    "plt.grid(True)\n",
    "plt.show()\n"
   ]
  },
  {
   "cell_type": "markdown",
   "id": "cb085527",
   "metadata": {},
   "source": [
    "정규분포 형태를 나타내고 있음"
   ]
  },
  {
   "cell_type": "code",
   "execution_count": 25,
   "id": "a7193971",
   "metadata": {},
   "outputs": [
    {
     "data": {
      "text/plain": [
       "count    27549.000000\n",
       "mean       271.431449\n",
       "std         73.451433\n",
       "min          0.000000\n",
       "25%        228.000000\n",
       "50%        267.000000\n",
       "75%        313.000000\n",
       "max        633.000000\n",
       "Name: CO2 Emissions (g/km), dtype: float64"
      ]
     },
     "execution_count": 25,
     "metadata": {},
     "output_type": "execute_result"
    }
   ],
   "source": [
    "co2_emissions.describe()"
   ]
  },
  {
   "cell_type": "markdown",
   "id": "453e718d",
   "metadata": {},
   "source": [
    "EU에서는 신차에 대한 이상적인 CO2 배출량을 95g/km 로 정하고 있습니다. 이 기준을 통해서는 평균 271.43 g/km은 다소 높다고 할수있다."
   ]
  },
  {
   "cell_type": "markdown",
   "id": "d6e56b78",
   "metadata": {},
   "source": [
    "# 평균 연도별 , 연료타입 CO2 배출량 분석"
   ]
  },
  {
   "cell_type": "code",
   "execution_count": 30,
   "id": "bd05da66",
   "metadata": {},
   "outputs": [
    {
     "data": {
      "image/png": "[encoded data removed]",
      "text/plain": [
       "<Figure size 720x432 with 1 Axes>"
      ]
     },
     "metadata": {
      "needs_background": "light"
     },
     "output_type": "display_data"
    },
    {
     "data": {
      "image/png": "[encoded data removed]",
      "text/plain": [
       "<Figure size 720x432 with 1 Axes>"
      ]
     },
     "metadata": {
      "needs_background": "light"
     },
     "output_type": "display_data"
    }
   ],
   "source": [
    "import pandas as pd\n",
    "import matplotlib.pyplot as plt\n",
    "import seaborn as sns\n",
    "\n",
    "# 연료 타입별 CO2 배출량의 평균 계산\n",
    "fuel_type_co2_mean = train_df.groupby('Fuel Type')['CO2 Emissions (g/km)'].mean().reset_index()\n",
    "\n",
    "# 시각화: 연료 타입별 평균 CO2 배출량\n",
    "plt.figure(figsize=(10, 6))\n",
    "sns.barplot(x='Fuel Type', y='CO2 Emissions (g/km)', data=train_df)\n",
    "plt.title('연료 타입별 평균 CO2 배출량')\n",
    "plt.xlabel('연료 타입')\n",
    "plt.ylabel('평균 CO2 배출량')\n",
    "plt.xticks(rotation=45)\n",
    "plt.show()\n",
    "\n",
    "# 도시/고속도로 운행 패턴별 CO2 배출량의 평균 계산\n",
    "driving_pattern_co2_mean = train_df.groupby('Fuel Consumption [City (L/100 km)]')['CO2 Emissions (g/km)'].mean().reset_index()\n",
    "\n",
    "# 시각화: 도시/고속도로 운행 패턴별 평균 CO2 배출량\n",
    "plt.figure(figsize=(10, 6))\n",
    "sns.barplot(x='Year', y='CO2 Emissions (g/km)', data=train_df)\n",
    "plt.title('연도별 평균 CO2 배출량')\n",
    "plt.xlabel('도시/고속도로 연료 소비량 (L/100km)')\n",
    "plt.ylabel('평균 CO2 배출량')\n",
    "plt.xticks(rotation=45)\n",
    "plt.show()\n"
   ]
  },
  {
   "cell_type": "markdown",
   "id": "63f3bda3",
   "metadata": {},
   "source": [
    "연료 타입은 N(천연가스) > E(바이오 연료) > Z(가솔린) > X(휘발유) > D(디젤) 순으로 연료 효율이 좋았다.\n",
    "\n",
    "연도별 CO2 배출량은 꾸준히 감소세를 보여주고 있다."
   ]
  },
  {
   "cell_type": "code",
   "execution_count": null,
   "id": "434b8946",
   "metadata": {},
   "outputs": [],
   "source": []
  }
 ],
 "metadata": {
  "kernelspec": {
   "display_name": "Python 3 (ipykernel)",
   "language": "python",
   "name": "python3"
  },
  "language_info": {
   "codemirror_mode": {
    "name": "ipython",
    "version": 3
   },
   "file_extension": ".py",
   "mimetype": "text/x-python",
   "name": "python",
   "nbconvert_exporter": "python",
   "pygments_lexer": "ipython3",
   "version": "3.9.12"
  }
 },
 "nbformat": 4,
 "nbformat_minor": 5
}
