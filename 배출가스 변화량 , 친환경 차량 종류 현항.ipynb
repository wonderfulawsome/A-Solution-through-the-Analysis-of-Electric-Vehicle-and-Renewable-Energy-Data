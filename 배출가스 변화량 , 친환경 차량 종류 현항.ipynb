{
 "cells": [
  {
   "cell_type": "markdown",
   "id": "0c702ee7",
   "metadata": {},
   "source": [
    "# 배출가스 변화량"
   ]
  },
  {
   "cell_type": "code",
   "execution_count": 1,
   "id": "600693e5",
   "metadata": {},
   "outputs": [
    {
     "data": {
      "text/plain": [
       "['Electric Cars VS Motor Cars.csv']"
      ]
     },
     "execution_count": 1,
     "metadata": {},
     "output_type": "execute_result"
    }
   ],
   "source": [
    "import zipfile\n",
    "import os\n",
    "\n",
    "# Unzipping the provided file\n",
    "zip_path = 'C:/Users/82106/Desktop/데이터분석 프로젝트/빅데이터 공모전/전기자동차/archive4.zip'\n",
    "unzip_folder = 'C:/Users/82106/Desktop/데이터분석 프로젝트/빅데이터 공모전/전기자동차/unzipped_data/'\n",
    "\n",
    "# Extracting the zip file\n",
    "with zipfile.ZipFile(zip_path, 'r') as zip_ref:\n",
    "    zip_ref.extractall(unzip_folder)\n",
    "\n",
    "# Listing the files in the unzipped folder\n",
    "extracted_files = os.listdir(unzip_folder)\n",
    "extracted_files\n"
   ]
  },
  {
   "cell_type": "code",
   "execution_count": 2,
   "id": "f10fb797",
   "metadata": {},
   "outputs": [
    {
     "data": {
      "text/html": [
       "<div>\n",
       "<style scoped>\n",
       "    .dataframe tbody tr th:only-of-type {\n",
       "        vertical-align: middle;\n",
       "    }\n",
       "\n",
       "    .dataframe tbody tr th {\n",
       "        vertical-align: top;\n",
       "    }\n",
       "\n",
       "    .dataframe thead th {\n",
       "        text-align: right;\n",
       "    }\n",
       "</style>\n",
       "<table border=\"1\" class=\"dataframe\">\n",
       "  <thead>\n",
       "    <tr style=\"text-align: right;\">\n",
       "      <th></th>\n",
       "      <th>Year;EV sales BEV;EV sales PHEV;EV Stock BEV;EV Stock PHEV;Electricity demand BEV;Electricity demand BHEV;Oil displacement (Million barrels per day);Oil displacement (Milion litres gasoline equivalent);Average CO2 emission per BEV produced (Kg CO2e);Average CO2 emission per PHEV produced (Kg CO2e);Total Motor cars production per year;Average CO2 emission per Moto car</th>\n",
       "    </tr>\n",
       "  </thead>\n",
       "  <tbody>\n",
       "    <tr>\n",
       "      <th>2010;7400;380;17000;400;;;0</th>\n",
       "      <td>001;32;185640000;4368000;58239494;267901672400</td>\n",
       "    </tr>\n",
       "    <tr>\n",
       "      <th>2011;40000;9100;55000;9500;;;0</th>\n",
       "      <td>002;87;600600000;103740000;59897273;275527455800</td>\n",
       "    </tr>\n",
       "    <tr>\n",
       "      <th>2012;59000;61000;120000;70000;;;0</th>\n",
       "      <td>003;190;1310400000;764400000;63081024;29017271...</td>\n",
       "    </tr>\n",
       "    <tr>\n",
       "      <th>2013;110000;92000;230000;160000;;;0</th>\n",
       "      <td>008;440;2511600000;1747200000;65745403;3024288...</td>\n",
       "    </tr>\n",
       "    <tr>\n",
       "      <th>2014;190000;130000;410000;300000;;;0</th>\n",
       "      <td>014;830;4477200000;3276000000;67782035;3117973...</td>\n",
       "    </tr>\n",
       "  </tbody>\n",
       "</table>\n",
       "</div>"
      ],
      "text/plain": [
       "                                     Year;EV sales BEV;EV sales PHEV;EV Stock BEV;EV Stock PHEV;Electricity demand BEV;Electricity demand BHEV;Oil displacement (Million barrels per day);Oil displacement (Milion litres gasoline equivalent);Average CO2 emission per BEV produced (Kg CO2e);Average CO2 emission per PHEV produced (Kg CO2e);Total Motor cars production per year;Average CO2 emission per Moto car\n",
       "2010;7400;380;17000;400;;;0              001;32;185640000;4368000;58239494;267901672400                                                                                                                                                                                                                                                                                                                               \n",
       "2011;40000;9100;55000;9500;;;0         002;87;600600000;103740000;59897273;275527455800                                                                                                                                                                                                                                                                                                                               \n",
       "2012;59000;61000;120000;70000;;;0     003;190;1310400000;764400000;63081024;29017271...                                                                                                                                                                                                                                                                                                                               \n",
       "2013;110000;92000;230000;160000;;;0   008;440;2511600000;1747200000;65745403;3024288...                                                                                                                                                                                                                                                                                                                               \n",
       "2014;190000;130000;410000;300000;;;0  014;830;4477200000;3276000000;67782035;3117973...                                                                                                                                                                                                                                                                                                                               "
      ]
     },
     "execution_count": 2,
     "metadata": {},
     "output_type": "execute_result"
    }
   ],
   "source": [
    "import pandas as pd\n",
    "\n",
    "# Load the CSV file\n",
    "file_path = os.path.join(unzip_folder, extracted_files[0])\n",
    "data = pd.read_csv(file_path)\n",
    "\n",
    "# Display the first few rows of the dataframe\n",
    "data.head()\n"
   ]
  },
  {
   "cell_type": "code",
   "execution_count": 3,
   "id": "0e08a4c6",
   "metadata": {},
   "outputs": [
    {
     "data": {
      "text/html": [
       "<div>\n",
       "<style scoped>\n",
       "    .dataframe tbody tr th:only-of-type {\n",
       "        vertical-align: middle;\n",
       "    }\n",
       "\n",
       "    .dataframe tbody tr th {\n",
       "        vertical-align: top;\n",
       "    }\n",
       "\n",
       "    .dataframe thead th {\n",
       "        text-align: right;\n",
       "    }\n",
       "</style>\n",
       "<table border=\"1\" class=\"dataframe\">\n",
       "  <thead>\n",
       "    <tr style=\"text-align: right;\">\n",
       "      <th></th>\n",
       "      <th>Year</th>\n",
       "      <th>EV sales BEV</th>\n",
       "      <th>EV sales PHEV</th>\n",
       "      <th>EV Stock BEV</th>\n",
       "      <th>EV Stock PHEV</th>\n",
       "      <th>Electricity demand BEV</th>\n",
       "      <th>Electricity demand BHEV</th>\n",
       "      <th>Oil displacement (Million barrels per day)</th>\n",
       "      <th>Oil displacement (Milion litres gasoline equivalent)</th>\n",
       "      <th>Average CO2 emission per BEV produced (Kg CO2e)</th>\n",
       "      <th>Average CO2 emission per PHEV produced (Kg CO2e)</th>\n",
       "      <th>Total Motor cars production per year</th>\n",
       "      <th>Average CO2 emission per Moto car</th>\n",
       "    </tr>\n",
       "  </thead>\n",
       "  <tbody>\n",
       "    <tr>\n",
       "      <th>0</th>\n",
       "      <td>2010</td>\n",
       "      <td>7400</td>\n",
       "      <td>380</td>\n",
       "      <td>17000</td>\n",
       "      <td>400</td>\n",
       "      <td>NaN</td>\n",
       "      <td>NaN</td>\n",
       "      <td>0,001</td>\n",
       "      <td>32</td>\n",
       "      <td>185640000</td>\n",
       "      <td>4368000</td>\n",
       "      <td>58239494</td>\n",
       "      <td>267901672400</td>\n",
       "    </tr>\n",
       "    <tr>\n",
       "      <th>1</th>\n",
       "      <td>2011</td>\n",
       "      <td>40000</td>\n",
       "      <td>9100</td>\n",
       "      <td>55000</td>\n",
       "      <td>9500</td>\n",
       "      <td>NaN</td>\n",
       "      <td>NaN</td>\n",
       "      <td>0,002</td>\n",
       "      <td>87</td>\n",
       "      <td>600600000</td>\n",
       "      <td>103740000</td>\n",
       "      <td>59897273</td>\n",
       "      <td>275527455800</td>\n",
       "    </tr>\n",
       "    <tr>\n",
       "      <th>2</th>\n",
       "      <td>2012</td>\n",
       "      <td>59000</td>\n",
       "      <td>61000</td>\n",
       "      <td>120000</td>\n",
       "      <td>70000</td>\n",
       "      <td>NaN</td>\n",
       "      <td>NaN</td>\n",
       "      <td>0,003</td>\n",
       "      <td>190</td>\n",
       "      <td>1310400000</td>\n",
       "      <td>764400000</td>\n",
       "      <td>63081024</td>\n",
       "      <td>290172710400</td>\n",
       "    </tr>\n",
       "    <tr>\n",
       "      <th>3</th>\n",
       "      <td>2013</td>\n",
       "      <td>110000</td>\n",
       "      <td>92000</td>\n",
       "      <td>230000</td>\n",
       "      <td>160000</td>\n",
       "      <td>NaN</td>\n",
       "      <td>NaN</td>\n",
       "      <td>0,008</td>\n",
       "      <td>440</td>\n",
       "      <td>2511600000</td>\n",
       "      <td>1747200000</td>\n",
       "      <td>65745403</td>\n",
       "      <td>302428853800</td>\n",
       "    </tr>\n",
       "    <tr>\n",
       "      <th>4</th>\n",
       "      <td>2014</td>\n",
       "      <td>190000</td>\n",
       "      <td>130000</td>\n",
       "      <td>410000</td>\n",
       "      <td>300000</td>\n",
       "      <td>NaN</td>\n",
       "      <td>NaN</td>\n",
       "      <td>0,014</td>\n",
       "      <td>830</td>\n",
       "      <td>4477200000</td>\n",
       "      <td>3276000000</td>\n",
       "      <td>67782035</td>\n",
       "      <td>311797361000</td>\n",
       "    </tr>\n",
       "  </tbody>\n",
       "</table>\n",
       "</div>"
      ],
      "text/plain": [
       "   Year  EV sales BEV  EV sales PHEV  EV Stock BEV  EV Stock PHEV  \\\n",
       "0  2010          7400            380         17000            400   \n",
       "1  2011         40000           9100         55000           9500   \n",
       "2  2012         59000          61000        120000          70000   \n",
       "3  2013        110000          92000        230000         160000   \n",
       "4  2014        190000         130000        410000         300000   \n",
       "\n",
       "   Electricity demand BEV  Electricity demand BHEV  \\\n",
       "0                     NaN                      NaN   \n",
       "1                     NaN                      NaN   \n",
       "2                     NaN                      NaN   \n",
       "3                     NaN                      NaN   \n",
       "4                     NaN                      NaN   \n",
       "\n",
       "  Oil displacement (Million barrels per day)  \\\n",
       "0                                      0,001   \n",
       "1                                      0,002   \n",
       "2                                      0,003   \n",
       "3                                      0,008   \n",
       "4                                      0,014   \n",
       "\n",
       "   Oil displacement (Milion litres gasoline equivalent)  \\\n",
       "0                                                 32      \n",
       "1                                                 87      \n",
       "2                                                190      \n",
       "3                                                440      \n",
       "4                                                830      \n",
       "\n",
       "   Average CO2 emission per BEV produced (Kg CO2e)  \\\n",
       "0                                        185640000   \n",
       "1                                        600600000   \n",
       "2                                       1310400000   \n",
       "3                                       2511600000   \n",
       "4                                       4477200000   \n",
       "\n",
       "   Average CO2 emission per PHEV produced (Kg CO2e)  \\\n",
       "0                                           4368000   \n",
       "1                                         103740000   \n",
       "2                                         764400000   \n",
       "3                                        1747200000   \n",
       "4                                        3276000000   \n",
       "\n",
       "   Total Motor cars production per year  Average CO2 emission per Moto car  \n",
       "0                              58239494                       267901672400  \n",
       "1                              59897273                       275527455800  \n",
       "2                              63081024                       290172710400  \n",
       "3                              65745403                       302428853800  \n",
       "4                              67782035                       311797361000  "
      ]
     },
     "execution_count": 3,
     "metadata": {},
     "output_type": "execute_result"
    }
   ],
   "source": [
    "# Reading the CSV file with the correct delimiter\n",
    "data = pd.read_csv(file_path, delimiter=';')\n",
    "\n",
    "# Display the first few rows of the dataframe with correct parsing\n",
    "data.head()\n"
   ]
  },
  {
   "cell_type": "code",
   "execution_count": 4,
   "id": "d3a15e85",
   "metadata": {},
   "outputs": [
    {
     "name": "stderr",
     "output_type": "stream",
     "text": [
      "C:\\Users\\82106\\anaconda3\\lib\\site-packages\\scipy\\__init__.py:146: UserWarning: A NumPy version >=1.16.5 and <1.23.0 is required for this version of SciPy (detected version 1.26.2\n",
      "  warnings.warn(f\"A NumPy version >={np_minversion} and <{np_maxversion}\"\n"
     ]
    },
    {
     "data": {
      "text/plain": [
       "((7, 1, 1), (1, 1, 1), (7,), (1,))"
      ]
     },
     "execution_count": 4,
     "metadata": {},
     "output_type": "execute_result"
    }
   ],
   "source": [
    "from sklearn.preprocessing import MinMaxScaler\n",
    "import numpy as np\n",
    "\n",
    "# Selecting the target variable - EV sales BEV\n",
    "ev_sales_bev = data['EV sales BEV'].values.reshape(-1, 1)\n",
    "\n",
    "# Normalizing the data\n",
    "scaler = MinMaxScaler(feature_range=(0, 1))\n",
    "ev_sales_bev_scaled = scaler.fit_transform(ev_sales_bev)\n",
    "\n",
    "# Splitting the data into training and testing sets\n",
    "train_size = int(len(ev_sales_bev_scaled) * 0.8)\n",
    "test_size = len(ev_sales_bev_scaled) - train_size\n",
    "train, test = ev_sales_bev_scaled[0:train_size, :], ev_sales_bev_scaled[train_size:len(ev_sales_bev_scaled), :]\n",
    "\n",
    "# Function to create a dataset for LSTM\n",
    "def create_dataset(dataset, look_back=1):\n",
    "    X, Y = [], []\n",
    "    for i in range(len(dataset) - look_back - 1):\n",
    "        a = dataset[i:(i + look_back), 0]\n",
    "        X.append(a)\n",
    "        Y.append(dataset[i + look_back, 0])\n",
    "    return np.array(X), np.array(Y)\n",
    "\n",
    "# Preparing the data for LSTM\n",
    "look_back = 1\n",
    "X_train, Y_train = create_dataset(train, look_back)\n",
    "X_test, Y_test = create_dataset(test, look_back)\n",
    "\n",
    "# Reshaping input to be [samples, time steps, features]\n",
    "X_train = np.reshape(X_train, (X_train.shape[0], 1, X_train.shape[1]))\n",
    "X_test = np.reshape(X_test, (X_test.shape[0], 1, X_test.shape[1]))\n",
    "\n",
    "X_train.shape, X_test.shape, Y_train.shape, Y_test.shape\n"
   ]
  },
  {
   "cell_type": "code",
   "execution_count": 7,
   "id": "16cbd81f",
   "metadata": {},
   "outputs": [],
   "source": [
    "# Selecting relevant columns for the regression model\n",
    "# We will use 'EV sales BEV' as the independent variable and 'Average CO2 emission per BEV produced' as the dependent variable\n",
    "ev_sales = data['EV sales BEV']\n"
   ]
  },
  {
   "cell_type": "code",
   "execution_count": 8,
   "id": "5ed0f0f2",
   "metadata": {},
   "outputs": [
    {
     "data": {
      "text/plain": [
       "(   EV Sales  CO2 Emissions\n",
       " 0      7400      185640000\n",
       " 1     40000      600600000\n",
       " 2     59000     1310400000\n",
       " 3    110000     2511600000\n",
       " 4    190000     4477200000,\n",
       " EV Sales         0\n",
       " CO2 Emissions    0\n",
       " dtype: int64)"
      ]
     },
     "execution_count": 8,
     "metadata": {},
     "output_type": "execute_result"
    }
   ],
   "source": [
    "# Correcting the column name for CO2 emissions\n",
    "co2_emissions = data['Average CO2 emission per BEV produced (Kg CO2e)']\n",
    "\n",
    "# Preparing the data for regression analysis\n",
    "regression_data = pd.DataFrame({\n",
    "    'EV Sales': ev_sales,\n",
    "    'CO2 Emissions': co2_emissions\n",
    "})\n",
    "\n",
    "# Checking for missing values\n",
    "missing_values = regression_data.isnull().sum()\n",
    "regression_data.head(), missing_values\n"
   ]
  },
  {
   "cell_type": "code",
   "execution_count": 9,
   "id": "65caef51",
   "metadata": {},
   "outputs": [
    {
     "data": {
      "text/plain": [
       "(6.029338320927456e+20, 0.7820730114506564)"
      ]
     },
     "execution_count": 9,
     "metadata": {},
     "output_type": "execute_result"
    }
   ],
   "source": [
    "from sklearn.model_selection import train_test_split\n",
    "from sklearn.linear_model import LinearRegression\n",
    "from sklearn.metrics import mean_squared_error, r2_score\n",
    "\n",
    "# Splitting the data into training and testing sets\n",
    "X = regression_data['EV Sales'].values.reshape(-1,1)\n",
    "y = regression_data['CO2 Emissions'].values\n",
    "X_train, X_test, y_train, y_test = train_test_split(X, y, test_size=0.2, random_state=0)\n",
    "\n",
    "# Creating and training the linear regression model\n",
    "model = LinearRegression()\n",
    "model.fit(X_train, y_train)\n",
    "\n",
    "# Predicting on the test set\n",
    "y_pred = model.predict(X_test)\n",
    "\n",
    "# Calculating the performance metrics\n",
    "mse = mean_squared_error(y_test, y_pred)\n",
    "r2 = r2_score(y_test, y_pred)\n",
    "\n",
    "mse, r2\n"
   ]
  },
  {
   "cell_type": "code",
   "execution_count": 10,
   "id": "c9bd726e",
   "metadata": {},
   "outputs": [
    {
     "data": {
      "image/png": "[encoded data removed]",
      "text/plain": [
       "<Figure size 432x288 with 1 Axes>"
      ]
     },
     "metadata": {
      "needs_background": "light"
     },
     "output_type": "display_data"
    }
   ],
   "source": [
    "import matplotlib.pyplot as plt\n",
    "\n",
    "# Scatter plot of the data points\n",
    "plt.scatter(X_train, y_train, color = 'red', label = 'Training data')\n",
    "plt.scatter(X_test, y_test, color = 'blue', label = 'Testing data')\n",
    "\n",
    "# Plotting the regression line\n",
    "plt.plot(X_test, y_pred, color = 'green', linewidth = 2, label = 'Regression line')\n",
    "\n",
    "# Adding titles and labels\n",
    "plt.title('EV Sales vs CO2 Emissions')\n",
    "plt.xlabel('EV Sales (BEV)')\n",
    "plt.ylabel('CO2 Emissions (Kg CO2e)')\n",
    "plt.legend()\n",
    "\n",
    "# Display the plot\n",
    "plt.show()\n"
   ]
  },
  {
   "cell_type": "code",
   "execution_count": 11,
   "id": "e8581681",
   "metadata": {},
   "outputs": [
    {
     "data": {
      "text/plain": [
       "(   Year  Electricity Demand BEV (MWh)  CO2 Emission Motor Cars (Kg CO2e)\n",
       " 0  2010                           NaN                       267901672400\n",
       " 1  2011                           NaN                       275527455800\n",
       " 2  2012                           NaN                       290172710400\n",
       " 3  2013                           NaN                       302428853800\n",
       " 4  2014                           NaN                       311797361000,\n",
       " Year                                 0\n",
       " Electricity Demand BEV (MWh)         5\n",
       " CO2 Emission Motor Cars (Kg CO2e)    0\n",
       " dtype: int64)"
      ]
     },
     "execution_count": 11,
     "metadata": {},
     "output_type": "execute_result"
    }
   ],
   "source": [
    "# Selecting relevant columns for comparison\n",
    "# 'Electricity demand BEV' for electric cars and 'Average CO2 emission per Moto car' for motor cars\n",
    "electricity_demand_bev = data['Electricity demand BEV']\n",
    "co2_emission_motor = data['Average CO2 emission per Moto car']\n",
    "\n",
    "# Creating a new DataFrame for comparison\n",
    "comparison_data = pd.DataFrame({\n",
    "    'Year': data['Year'],\n",
    "    'Electricity Demand BEV (MWh)': electricity_demand_bev,\n",
    "    'CO2 Emission Motor Cars (Kg CO2e)': co2_emission_motor\n",
    "})\n",
    "\n",
    "# Checking for missing values in the selected data\n",
    "missing_values_comparison = comparison_data.isnull().sum()\n",
    "comparison_data.head(), missing_values_comparison\n"
   ]
  },
  {
   "cell_type": "code",
   "execution_count": 12,
   "id": "1d758294",
   "metadata": {},
   "outputs": [
    {
     "data": {
      "text/plain": [
       "(   Year  Electricity Demand BEV (MWh)  CO2 Emission Motor Cars (Kg CO2e)\n",
       " 0  2010                           NaN                       267901672400\n",
       " 1  2011                           NaN                       275527455800\n",
       " 2  2012                           NaN                       290172710400\n",
       " 3  2013                           NaN                       302428853800\n",
       " 4  2014                           NaN                       311797361000,\n",
       " Year                                 0\n",
       " Electricity Demand BEV (MWh)         5\n",
       " CO2 Emission Motor Cars (Kg CO2e)    0\n",
       " dtype: int64)"
      ]
     },
     "execution_count": 12,
     "metadata": {},
     "output_type": "execute_result"
    }
   ],
   "source": [
    "# Replacing missing values in 'Electricity Demand BEV' with the most recent non-null value\n",
    "comparison_data['Electricity Demand BEV (MWh)'].fillna(method='ffill', inplace=True)\n",
    "\n",
    "# Rechecking for missing values after imputation\n",
    "missing_values_after_imputation = comparison_data.isnull().sum()\n",
    "comparison_data.head(), missing_values_after_imputation\n"
   ]
  },
  {
   "cell_type": "code",
   "execution_count": 13,
   "id": "a217444e",
   "metadata": {},
   "outputs": [
    {
     "data": {
      "text/plain": [
       "(   Year  EV Stock BEV  CO2 Emission Motor Cars (Kg CO2e)\n",
       " 0  2010         17000                       267901672400\n",
       " 1  2011         55000                       275527455800\n",
       " 2  2012        120000                       290172710400\n",
       " 3  2013        230000                       302428853800\n",
       " 4  2014        410000                       311797361000,\n",
       " Year                                 0\n",
       " EV Stock BEV                         0\n",
       " CO2 Emission Motor Cars (Kg CO2e)    0\n",
       " dtype: int64)"
      ]
     },
     "execution_count": 13,
     "metadata": {},
     "output_type": "execute_result"
    }
   ],
   "source": [
    "# Using 'EV Stock BEV' as an alternative metric\n",
    "ev_stock_bev = data['EV Stock BEV']\n",
    "\n",
    "# Updating the comparison DataFrame\n",
    "comparison_data_updated = pd.DataFrame({\n",
    "    'Year': data['Year'],\n",
    "    'EV Stock BEV': ev_stock_bev,\n",
    "    'CO2 Emission Motor Cars (Kg CO2e)': co2_emission_motor\n",
    "})\n",
    "\n",
    "# Checking for missing values in the updated data\n",
    "missing_values_updated = comparison_data_updated.isnull().sum()\n",
    "comparison_data_updated.head(), missing_values_updated\n"
   ]
  },
  {
   "cell_type": "code",
   "execution_count": 15,
   "id": "8cea37b9",
   "metadata": {
    "scrolled": false
   },
   "outputs": [
    {
     "data": {
      "image/png": "[encoded data removed]",
      "text/plain": [
       "<Figure size 720x432 with 1 Axes>"
      ]
     },
     "metadata": {
      "needs_background": "light"
     },
     "output_type": "display_data"
    },
    {
     "data": {
      "image/png": "[encoded data removed]",
      "text/plain": [
       "<Figure size 720x432 with 2 Axes>"
      ]
     },
     "metadata": {
      "needs_background": "light"
     },
     "output_type": "display_data"
    }
   ],
   "source": [
    "# Correcting the visualization to properly display the data\n",
    "\n",
    "plt.figure(figsize=(10, 6))\n",
    "\n",
    "# Plotting EV Stock BEV\n",
    "plt.plot(comparison_data_updated['Year'], comparison_data_updated['EV Stock BEV'], label='EV Stock BEV', color='blue', marker='o')\n",
    "\n",
    "# Plotting CO2 Emission of Motor Cars on a secondary y-axis for better scale comparison\n",
    "fig, ax1 = plt.subplots(figsize=(10, 6))\n",
    "\n",
    "ax2 = ax1.twinx()\n",
    "ax1.plot(comparison_data_updated['Year'], comparison_data_updated['EV Stock BEV'], label='EV Stock BEV', color='blue', marker='o')\n",
    "ax2.plot(comparison_data_updated['Year'], comparison_data_updated['CO2 Emission Motor Cars (Kg CO2e)'], label='CO2 Emission Motor Cars (Kg CO2e)', color='red', marker='x')\n",
    "\n",
    "# Adding titles and labels\n",
    "ax1.set_title('Comparison of EV Stock and CO2 Emissions from Motor Cars')\n",
    "ax1.set_xlabel('Year')\n",
    "ax1.set_ylabel('EV Stock BEV', color='blue')\n",
    "ax2.set_ylabel('CO2 Emission Motor Cars (Kg CO2e)', color='red')\n",
    "ax1.legend(loc='upper left')\n",
    "ax2.legend(loc='upper right')\n",
    "ax1.grid(True)\n",
    "\n",
    "# Display the plot\n",
    "plt.show()\n"
   ]
  },
  {
   "cell_type": "markdown",
   "id": "ea165308",
   "metadata": {},
   "source": [
    "2017년 이후 내연기관 차량의 CO2 배출량 데이터를 확인한 결과, CO2 배출량이 실제로 감소하는 추세를 보이고 있습니다. 2020년에는 특히 큰 감소가 있었습니다. 이는 여러 요인, 예를 들어 전기차의 증가, 연료 효율 개선, 환경 규제 강화 등에 의한 것일 수 있습니다.\n",
    "\n",
    "전기차의 수는 계속해서 증가한다"
   ]
  },
  {
   "cell_type": "markdown",
   "id": "9ab7e556",
   "metadata": {},
   "source": [
    "# 연료 효율성 최적화"
   ]
  },
  {
   "cell_type": "code",
   "execution_count": 17,
   "id": "53ce2ac7",
   "metadata": {},
   "outputs": [
    {
     "data": {
      "text/plain": [
       "['archive',\n",
       " 'archive.zip',\n",
       " 'archive10.zip',\n",
       " 'archive2',\n",
       " 'archive2.zip',\n",
       " 'archive3',\n",
       " 'archive3.zip',\n",
       " 'archive4',\n",
       " 'archive4.zip',\n",
       " 'archive5',\n",
       " 'archive5.zip',\n",
       " 'archive6.zip',\n",
       " 'archive7.zip',\n",
       " 'archive8.zip',\n",
       " 'archive9.zip',\n",
       " 'electric_vehicle_data',\n",
       " 'extracted_data',\n",
       " 'unzipped_data']"
      ]
     },
     "execution_count": 17,
     "metadata": {},
     "output_type": "execute_result"
    }
   ],
   "source": [
    "# Correcting the folder path and listing the contents again\n",
    "extracted_folder_path = 'C:/Users/82106/Desktop/데이터분석 프로젝트/빅데이터 공모전/전기자동차/'\n",
    "extracted_files = os.listdir(extracted_folder_path)\n",
    "extracted_files\n"
   ]
  },
  {
   "cell_type": "code",
   "execution_count": 19,
   "id": "e879d70f",
   "metadata": {},
   "outputs": [
    {
     "data": {
      "text/html": [
       "<div>\n",
       "<style scoped>\n",
       "    .dataframe tbody tr th:only-of-type {\n",
       "        vertical-align: middle;\n",
       "    }\n",
       "\n",
       "    .dataframe tbody tr th {\n",
       "        vertical-align: top;\n",
       "    }\n",
       "\n",
       "    .dataframe thead th {\n",
       "        text-align: right;\n",
       "    }\n",
       "</style>\n",
       "<table border=\"1\" class=\"dataframe\">\n",
       "  <thead>\n",
       "    <tr style=\"text-align: right;\">\n",
       "      <th></th>\n",
       "      <th>Brand</th>\n",
       "      <th>Model</th>\n",
       "      <th>AccelSec</th>\n",
       "      <th>TopSpeed_KmH</th>\n",
       "      <th>Range_Km</th>\n",
       "      <th>Efficiency_WhKm</th>\n",
       "      <th>FastCharge_KmH</th>\n",
       "      <th>RapidCharge</th>\n",
       "      <th>PowerTrain</th>\n",
       "      <th>PlugType</th>\n",
       "      <th>BodyStyle</th>\n",
       "      <th>Segment</th>\n",
       "      <th>Seats</th>\n",
       "      <th>PriceEuro</th>\n",
       "    </tr>\n",
       "  </thead>\n",
       "  <tbody>\n",
       "    <tr>\n",
       "      <th>0</th>\n",
       "      <td>Tesla</td>\n",
       "      <td>Model 3 Long Range Dual Motor</td>\n",
       "      <td>4.6</td>\n",
       "      <td>233</td>\n",
       "      <td>450</td>\n",
       "      <td>161</td>\n",
       "      <td>940</td>\n",
       "      <td>Yes</td>\n",
       "      <td>AWD</td>\n",
       "      <td>Type 2 CCS</td>\n",
       "      <td>Sedan</td>\n",
       "      <td>D</td>\n",
       "      <td>5</td>\n",
       "      <td>55480</td>\n",
       "    </tr>\n",
       "    <tr>\n",
       "      <th>1</th>\n",
       "      <td>Volkswagen</td>\n",
       "      <td>ID.3 Pure</td>\n",
       "      <td>10.0</td>\n",
       "      <td>160</td>\n",
       "      <td>270</td>\n",
       "      <td>167</td>\n",
       "      <td>250</td>\n",
       "      <td>Yes</td>\n",
       "      <td>RWD</td>\n",
       "      <td>Type 2 CCS</td>\n",
       "      <td>Hatchback</td>\n",
       "      <td>C</td>\n",
       "      <td>5</td>\n",
       "      <td>30000</td>\n",
       "    </tr>\n",
       "    <tr>\n",
       "      <th>2</th>\n",
       "      <td>Polestar</td>\n",
       "      <td>2</td>\n",
       "      <td>4.7</td>\n",
       "      <td>210</td>\n",
       "      <td>400</td>\n",
       "      <td>181</td>\n",
       "      <td>620</td>\n",
       "      <td>Yes</td>\n",
       "      <td>AWD</td>\n",
       "      <td>Type 2 CCS</td>\n",
       "      <td>Liftback</td>\n",
       "      <td>D</td>\n",
       "      <td>5</td>\n",
       "      <td>56440</td>\n",
       "    </tr>\n",
       "    <tr>\n",
       "      <th>3</th>\n",
       "      <td>BMW</td>\n",
       "      <td>iX3</td>\n",
       "      <td>6.8</td>\n",
       "      <td>180</td>\n",
       "      <td>360</td>\n",
       "      <td>206</td>\n",
       "      <td>560</td>\n",
       "      <td>Yes</td>\n",
       "      <td>RWD</td>\n",
       "      <td>Type 2 CCS</td>\n",
       "      <td>SUV</td>\n",
       "      <td>D</td>\n",
       "      <td>5</td>\n",
       "      <td>68040</td>\n",
       "    </tr>\n",
       "    <tr>\n",
       "      <th>4</th>\n",
       "      <td>Honda</td>\n",
       "      <td>e</td>\n",
       "      <td>9.5</td>\n",
       "      <td>145</td>\n",
       "      <td>170</td>\n",
       "      <td>168</td>\n",
       "      <td>190</td>\n",
       "      <td>Yes</td>\n",
       "      <td>RWD</td>\n",
       "      <td>Type 2 CCS</td>\n",
       "      <td>Hatchback</td>\n",
       "      <td>B</td>\n",
       "      <td>4</td>\n",
       "      <td>32997</td>\n",
       "    </tr>\n",
       "  </tbody>\n",
       "</table>\n",
       "</div>"
      ],
      "text/plain": [
       "         Brand                          Model  AccelSec  TopSpeed_KmH  \\\n",
       "0       Tesla   Model 3 Long Range Dual Motor       4.6           233   \n",
       "1  Volkswagen                       ID.3 Pure      10.0           160   \n",
       "2    Polestar                               2       4.7           210   \n",
       "3         BMW                            iX3        6.8           180   \n",
       "4       Honda                              e        9.5           145   \n",
       "\n",
       "   Range_Km  Efficiency_WhKm FastCharge_KmH RapidCharge PowerTrain  \\\n",
       "0       450              161            940         Yes        AWD   \n",
       "1       270              167            250         Yes        RWD   \n",
       "2       400              181            620         Yes        AWD   \n",
       "3       360              206            560         Yes        RWD   \n",
       "4       170              168            190         Yes        RWD   \n",
       "\n",
       "     PlugType  BodyStyle Segment  Seats  PriceEuro  \n",
       "0  Type 2 CCS      Sedan       D      5      55480  \n",
       "1  Type 2 CCS  Hatchback       C      5      30000  \n",
       "2  Type 2 CCS   Liftback       D      5      56440  \n",
       "3  Type 2 CCS        SUV       D      5      68040  \n",
       "4  Type 2 CCS  Hatchback       B      4      32997  "
      ]
     },
     "execution_count": 19,
     "metadata": {},
     "output_type": "execute_result"
    }
   ],
   "source": [
    "import pandas as pd\n",
    "\n",
    "# Load the Electric Car.csv file\n",
    "electric_car_data_path = 'C:/Users/82106/Desktop/데이터분석 프로젝트/빅데이터 공모전/전기자동차/archive5/Electric Car.csv'\n",
    "electric_car_data = pd.read_csv(electric_car_data_path)\n",
    "\n",
    "# Display the first few rows of the dataframe to understand its structure\n",
    "electric_car_data.head()\n"
   ]
  },
  {
   "cell_type": "code",
   "execution_count": 20,
   "id": "6f6cdfe9",
   "metadata": {},
   "outputs": [
    {
     "data": {
      "image/png": "[encoded data removed]",
      "text/plain": [
       "<Figure size 864x576 with 2 Axes>"
      ]
     },
     "metadata": {
      "needs_background": "light"
     },
     "output_type": "display_data"
    },
    {
     "data": {
      "text/plain": [
       "(         AccelSec  TopSpeed_KmH    Range_Km  Efficiency_WhKm       Seats  \\\n",
       " count  103.000000    103.000000  103.000000       103.000000  103.000000   \n",
       " mean     7.396117    179.194175  338.786408       189.165049    4.883495   \n",
       " std      3.017430     43.573030  126.014444        29.566839    0.795834   \n",
       " min      2.100000    123.000000   95.000000       104.000000    2.000000   \n",
       " 25%      5.100000    150.000000  250.000000       168.000000    5.000000   \n",
       " 50%      7.300000    160.000000  340.000000       180.000000    5.000000   \n",
       " 75%      9.000000    200.000000  400.000000       203.000000    5.000000   \n",
       " max     22.400000    410.000000  970.000000       273.000000    7.000000   \n",
       " \n",
       "            PriceEuro  \n",
       " count     103.000000  \n",
       " mean    55811.563107  \n",
       " std     34134.665280  \n",
       " min     20129.000000  \n",
       " 25%     34429.500000  \n",
       " 50%     45000.000000  \n",
       " 75%     65000.000000  \n",
       " max    215000.000000  ,\n",
       " AccelSec          -0.382904\n",
       " TopSpeed_KmH       0.355675\n",
       " Range_Km           0.313077\n",
       " Efficiency_WhKm    1.000000\n",
       " Seats              0.301230\n",
       " PriceEuro          0.396705\n",
       " Name: Efficiency_WhKm, dtype: float64)"
      ]
     },
     "execution_count": 20,
     "metadata": {},
     "output_type": "execute_result"
    }
   ],
   "source": [
    "import matplotlib.pyplot as plt\n",
    "import seaborn as sns\n",
    "\n",
    "# Basic statistical overview\n",
    "stats_overview = electric_car_data.describe()\n",
    "\n",
    "# Correlation matrix to see the relationship between variables, especially with 'Efficiency_WhKm'\n",
    "correlation_matrix = electric_car_data.corr()\n",
    "\n",
    "# Plotting the correlation matrix\n",
    "plt.figure(figsize=(12, 8))\n",
    "sns.heatmap(correlation_matrix, annot=True, cmap='coolwarm')\n",
    "plt.title(\"Correlation Matrix of Electric Car Features\")\n",
    "plt.show()\n",
    "\n",
    "stats_overview, correlation_matrix['Efficiency_WhKm']\n"
   ]
  },
  {
   "cell_type": "code",
   "execution_count": 21,
   "id": "a815d424",
   "metadata": {},
   "outputs": [
    {
     "data": {
      "text/plain": [
       "25.521391027920085"
      ]
     },
     "execution_count": 21,
     "metadata": {},
     "output_type": "execute_result"
    }
   ],
   "source": [
    "from sklearn.model_selection import train_test_split\n",
    "from sklearn.ensemble import RandomForestRegressor\n",
    "from sklearn.preprocessing import OneHotEncoder\n",
    "from sklearn.compose import ColumnTransformer\n",
    "from sklearn.pipeline import Pipeline\n",
    "from sklearn.impute import SimpleImputer\n",
    "from sklearn.metrics import mean_squared_error\n",
    "import numpy as np\n",
    "\n",
    "# Selecting relevant columns for the model\n",
    "relevant_columns = ['AccelSec', 'TopSpeed_KmH', 'Range_Km', 'FastCharge_KmH', 'RapidCharge', \n",
    "                    'PowerTrain', 'PlugType', 'BodyStyle', 'Segment', 'Seats', 'PriceEuro', \n",
    "                    'Efficiency_WhKm']\n",
    "data_for_model = electric_car_data[relevant_columns].copy()\n",
    "\n",
    "# Handling non-numeric columns\n",
    "categorical_columns = ['FastCharge_KmH', 'RapidCharge', 'PowerTrain', 'PlugType', 'BodyStyle', 'Segment']\n",
    "numeric_columns = ['AccelSec', 'TopSpeed_KmH', 'Range_Km', 'Seats', 'PriceEuro']\n",
    "\n",
    "# Preprocessing for numerical data\n",
    "numeric_transformer = SimpleImputer(strategy='median')\n",
    "\n",
    "# Preprocessing for categorical data\n",
    "categorical_transformer = Pipeline(steps=[\n",
    "    ('imputer', SimpleImputer(strategy='most_frequent')),\n",
    "    ('onehot', OneHotEncoder(handle_unknown='ignore'))\n",
    "])\n",
    "\n",
    "# Bundle preprocessing for numerical and categorical data\n",
    "preprocessor = ColumnTransformer(\n",
    "    transformers=[\n",
    "        ('num', numeric_transformer, numeric_columns),\n",
    "        ('cat', categorical_transformer, categorical_columns)\n",
    "    ])\n",
    "\n",
    "# Define the model\n",
    "model = RandomForestRegressor(n_estimators=100, random_state=0)\n",
    "\n",
    "# Create and evaluate the pipeline\n",
    "pipeline = Pipeline(steps=[('preprocessor', preprocessor),\n",
    "                           ('model', model)])\n",
    "\n",
    "# Separate target from predictors\n",
    "X = data_for_model.drop('Efficiency_WhKm', axis=1)\n",
    "y = data_for_model['Efficiency_WhKm']\n",
    "\n",
    "# Splitting data into training and validation sets\n",
    "X_train, X_valid, y_train, y_valid = train_test_split(X, y, train_size=0.8, test_size=0.2, random_state=0)\n",
    "\n",
    "# Preprocessing of training data, fit model \n",
    "pipeline.fit(X_train, y_train)\n",
    "\n",
    "# Preprocessing of validation data, get predictions\n",
    "preds = pipeline.predict(X_valid)\n",
    "\n",
    "# Evaluate the model\n",
    "score = mean_squared_error(y_valid, preds, squared=False) # RMSE\n",
    "score\n"
   ]
  },
  {
   "cell_type": "code",
   "execution_count": 22,
   "id": "2fc26d8a",
   "metadata": {},
   "outputs": [
    {
     "name": "stderr",
     "output_type": "stream",
     "text": [
      "C:\\Users\\82106\\anaconda3\\lib\\site-packages\\sklearn\\utils\\deprecation.py:87: FutureWarning: Function get_feature_names is deprecated; get_feature_names is deprecated in 1.0 and will be removed in 1.2. Please use get_feature_names_out instead.\n",
      "  warnings.warn(msg, category=FutureWarning)\n"
     ]
    },
    {
     "data": {
      "text/plain": [
       "[('PriceEuro', 0.45230784796043966),\n",
       " ('TopSpeed_KmH', 0.1480481850053059),\n",
       " ('Segment_E', 0.12571243986548258),\n",
       " ('Range_Km', 0.06378462773032757),\n",
       " ('Segment_N', 0.05247752487718826),\n",
       " ('AccelSec', 0.02891299695309589),\n",
       " ('Seats', 0.01699147567809079),\n",
       " ('BodyStyle_Pickup', 0.01696189529442961),\n",
       " ('BodyStyle_Hatchback', 0.00931147354013514),\n",
       " ('Segment_D', 0.008366804364432328)]"
      ]
     },
     "execution_count": 22,
     "metadata": {},
     "output_type": "execute_result"
    }
   ],
   "source": [
    "# Getting feature importance from the model\n",
    "feature_importance = pipeline.named_steps['model'].feature_importances_\n",
    "\n",
    "# One-hot encoded features\n",
    "ohe_columns = list(pipeline.named_steps['preprocessor'].named_transformers_['cat'].named_steps['onehot'].get_feature_names(input_features=categorical_columns))\n",
    "feature_names = numeric_columns + ohe_columns\n",
    "\n",
    "# Mapping feature names with their importance\n",
    "feature_importance_dict = dict(zip(feature_names, feature_importance))\n",
    "\n",
    "# Sorting features based on importance\n",
    "sorted_feature_importance = sorted(feature_importance_dict.items(), key=lambda item: item[1], reverse=True)\n",
    "\n",
    "# Displaying the top 10 most important features\n",
    "sorted_feature_importance[:10]\n"
   ]
  },
  {
   "cell_type": "code",
   "execution_count": 23,
   "id": "ce827d4c",
   "metadata": {},
   "outputs": [
    {
     "data": {
      "image/png": "[encoded data removed]",
      "text/plain": [
       "<Figure size 1440x1080 with 4 Axes>"
      ]
     },
     "metadata": {
      "needs_background": "light"
     },
     "output_type": "display_data"
    }
   ],
   "source": [
    "# Analyzing the distribution of key features: PriceEuro, TopSpeed_KmH, Range_Km, and Segments\n",
    "plt.figure(figsize=(20, 15))\n",
    "\n",
    "# Price distribution\n",
    "plt.subplot(2, 2, 1)\n",
    "sns.histplot(electric_car_data['PriceEuro'], kde=True)\n",
    "plt.title('Distribution of PriceEuro')\n",
    "\n",
    "# Top speed distribution\n",
    "plt.subplot(2, 2, 2)\n",
    "sns.histplot(electric_car_data['TopSpeed_KmH'], kde=True)\n",
    "plt.title('Distribution of TopSpeed_KmH')\n",
    "\n",
    "# Range distribution\n",
    "plt.subplot(2, 2, 3)\n",
    "sns.histplot(electric_car_data['Range_Km'], kde=True)\n",
    "plt.title('Distribution of Range_Km')\n",
    "\n",
    "# Segment distribution\n",
    "plt.subplot(2, 2, 4)\n",
    "sns.countplot(y=electric_car_data['Segment'])\n",
    "plt.title('Distribution of Car Segments')\n",
    "\n",
    "plt.tight_layout()\n",
    "plt.show()\n"
   ]
  },
  {
   "cell_type": "code",
   "execution_count": 29,
   "id": "0cc2efa0",
   "metadata": {},
   "outputs": [
    {
     "data": {
      "text/plain": [
       "[((120000, 200, 325, 'E'), 238.3),\n",
       " ((120000, 175, 325, 'E'), 237.95),\n",
       " ((120000, 200, 250, 'E'), 237.25),\n",
       " ((120000, 175, 250, 'E'), 236.87),\n",
       " ((120000, 200, 400, 'E'), 234.7)]"
      ]
     },
     "execution_count": 29,
     "metadata": {},
     "output_type": "execute_result"
    }
   ],
   "source": [
    "from itertools import product\n",
    "\n",
    "# Defining ranges for the key variables\n",
    "price_range = [30000, 60000, 120000]  # Example price points\n",
    "top_speed_range = [150, 175, 200,250]  # Example top speeds\n",
    "range_km = [250, 325, 400,500]  # Example ranges\n",
    "segments = ['A','C', 'D', 'E','B','F']  # Example segments\n",
    "\n",
    "# Creating combinations of these ranges\n",
    "combinations = list(product(price_range, top_speed_range, range_km, segments))\n",
    "\n",
    "# Function to create a dataframe for a given combination\n",
    "def create_input_dataframe(combination, base_data):\n",
    "    df = pd.DataFrame([{\n",
    "        'PriceEuro': combination[0], \n",
    "        'TopSpeed_KmH': combination[1], \n",
    "        'Range_Km': combination[2], \n",
    "        'Segment': combination[3],\n",
    "        # Other features will be filled with median values or most frequent values\n",
    "    }])\n",
    "    \n",
    "    # Fill other features with median or most frequent values\n",
    "    for col in base_data.columns:\n",
    "        if col not in df.columns:\n",
    "            if base_data[col].dtype == 'object':\n",
    "                df[col] = base_data[col].mode().iloc[0]\n",
    "            else:\n",
    "                df[col] = base_data[col].median()\n",
    "    \n",
    "    return df\n",
    "\n",
    "# Evaluating each combination\n",
    "efficiency_results = []\n",
    "for combo in combinations:\n",
    "    input_df = create_input_dataframe(combo, electric_car_data)\n",
    "    predicted_efficiency = pipeline.predict(input_df)[0]\n",
    "    efficiency_results.append((combo, predicted_efficiency))\n",
    "\n",
    "# Sorting the results by predicted efficiency\n",
    "sorted_results = sorted(efficiency_results, key=lambda x: x[1], reverse=True)\n",
    "\n",
    "# Displaying the top 5 combinations\n",
    "sorted_results[:5]\n"
   ]
  },
  {
   "cell_type": "markdown",
   "id": "23c61960",
   "metadata": {},
   "source": [
    "가격은 높을수록 효율성이 높다\n",
    "\n",
    "차량의 최고속도가 200, 175로 설정된 차량이 에너지 효율성이 높다\n",
    "\n",
    "한번 연료주입으로 주행할수있는 거리가 325정도일때 에너지 효율성이 높다\n",
    "\n",
    "차량은 'E' 타입 , 즉, 대형차일수록 효율성이 높다"
   ]
  },
  {
   "cell_type": "markdown",
   "id": "95f9f21b",
   "metadata": {},
   "source": [
    "대형차 인 전기차 일수록 에너지 효율성이 높다는것을 알수있다. \n",
    "\n",
    "이를 통해, 대중교통 차량들을 전기차로 구성하는것이 차량 자체의 에너지 효율성에서도 유리하다는것을 알수있다."
   ]
  },
  {
   "cell_type": "code",
   "execution_count": 50,
   "id": "1a911a09",
   "metadata": {},
   "outputs": [],
   "source": [
    "#"
   ]
  },
  {
   "cell_type": "code",
   "execution_count": 53,
   "id": "88cac76a",
   "metadata": {},
   "outputs": [
    {
     "data": {
      "text/plain": [
       "['Alternative Fuel Vehicles US.csv',\n",
       " 'Alternative Fuels Vehicle Models Summary.pdf',\n",
       " 'ElectricCarData_Clean.csv',\n",
       " 'ElectricCarData_Norm.csv',\n",
       " 'Light Duty Vehicles.csv',\n",
       " 'Medium and Heavy Duty Vehicles.csv']"
      ]
     },
     "execution_count": 53,
     "metadata": {},
     "output_type": "execute_result"
    }
   ],
   "source": [
    "# Re-importing zipfile module and defining the file paths again\n",
    "import zipfile\n",
    "\n",
    "# File path\n",
    "zip_file_path = 'C:/Users/82106/Desktop/데이터분석 프로젝트/빅데이터 공모전/전기자동차/archive6.zip'\n",
    "extract_folder_path = 'C:/Users/82106/Desktop/데이터분석 프로젝트/빅데이터 공모전/전기자동차/extracted_data/'\n",
    "\n",
    "# Extracting the zip file again\n",
    "with zipfile.ZipFile(zip_file_path, 'r') as zip_ref:\n",
    "    zip_ref.extractall(extract_folder_path)\n",
    "\n",
    "# Listing the contents of the extracted folder again\n",
    "extracted_files = os.listdir(extract_folder_path)\n",
    "extracted_files"
   ]
  },
  {
   "cell_type": "code",
   "execution_count": 54,
   "id": "6228dc4d",
   "metadata": {},
   "outputs": [
    {
     "data": {
      "text/plain": [
       "(      Category               Model  Model Year Manufacturer             Fuel  \\\n",
       " 0  Sedan/Wagon                 NSX      2022.0        Acura  Hybrid Electric   \n",
       " 1  Sedan/Wagon                 A3       2022.0         Audi  Hybrid Electric   \n",
       " 2  Sedan/Wagon          A3 quattro      2022.0         Audi  Hybrid Electric   \n",
       " 3  Sedan/Wagon  A4 allroad quattro      2022.0         Audi  Hybrid Electric   \n",
       " 4  Sedan/Wagon          A4 quattro      2022.0         Audi  Hybrid Electric   \n",
       " \n",
       "    All-Electric Range  PHEV Total Range  Alternative Fuel Economy City  \\\n",
       " 0                 NaN               NaN                            NaN   \n",
       " 1                 NaN               NaN                            NaN   \n",
       " 2                 NaN               NaN                            NaN   \n",
       " 3                 NaN               NaN                            NaN   \n",
       " 4                 NaN               NaN                            NaN   \n",
       " \n",
       "    Alternative Fuel Economy Highway  Alternative Fuel Economy Combined  ...  \\\n",
       " 0                               NaN                                NaN  ...   \n",
       " 1                               NaN                                NaN  ...   \n",
       " 2                               NaN                                NaN  ...   \n",
       " 3                               NaN                                NaN  ...   \n",
       " 4                               NaN                                NaN  ...   \n",
       " \n",
       "    Conventional Fuel Economy Combined  Transmission Type  Transmission Make  \\\n",
       " 0                                21.0               Auto                NaN   \n",
       " 1                                32.0               Auto                NaN   \n",
       " 2                                31.0               Auto                NaN   \n",
       " 3                                26.0               Auto                NaN   \n",
       " 4                                29.0               Auto                NaN   \n",
       " \n",
       "   Engine Type Engine Size Engine Cylinder Count Number of Passengers  \\\n",
       " 0          SI        3.5L                   6.0                  NaN   \n",
       " 1          SI        2.0L                   4.0                  NaN   \n",
       " 2          SI        2.0L                   4.0                  NaN   \n",
       " 3          SI        2.0L                   4.0                  NaN   \n",
       " 4          SI        2.0L                   4.0                  NaN   \n",
       " \n",
       "    Heavy-Duty Power System Notes Drivetrain  \n",
       " 0                      NaN   NaN        AWD  \n",
       " 1                      NaN   NaN        FWD  \n",
       " 2                      NaN   NaN        AWD  \n",
       " 3                      NaN   NaN        AWD  \n",
       " 4                      NaN   NaN        AWD  \n",
       " \n",
       " [5 rows x 22 columns],\n",
       "    Vehicle ID  Fuel ID  Fuel Configuration ID  Manufacturer ID  Category ID  \\\n",
       " 0       13044       45                    9.0              365           27   \n",
       " 1       12854       45                    9.0              377           27   \n",
       " 2       12842       45                    9.0              377           27   \n",
       " 3       12783       45                    9.0              377           27   \n",
       " 4       12782       45                    9.0              377           27   \n",
       " \n",
       "                 Model  Model Year  Alternative Fuel Economy City  \\\n",
       " 0                 NSX        2022                            NaN   \n",
       " 1                 A3         2022                            NaN   \n",
       " 2          A3 quattro        2022                            NaN   \n",
       " 3  A4 allroad quattro        2022                            NaN   \n",
       " 4          A4 quattro        2022                            NaN   \n",
       " \n",
       "    Alternative Fuel Economy Highway  Alternative Fuel Economy Combined  ...  \\\n",
       " 0                               NaN                                NaN  ...   \n",
       " 1                               NaN                                NaN  ...   \n",
       " 2                               NaN                                NaN  ...   \n",
       " 3                               NaN                                NaN  ...   \n",
       " 4                               NaN                                NaN  ...   \n",
       " \n",
       "                Manufacturer URL     Category  Fuel Code             Fuel  \\\n",
       " 0         http://www.acura.com/  Sedan/Wagon       HYBR  Hybrid Electric   \n",
       " 1  http://progress.audiusa.com/  Sedan/Wagon       HYBR  Hybrid Electric   \n",
       " 2  http://progress.audiusa.com/  Sedan/Wagon       HYBR  Hybrid Electric   \n",
       " 3  http://progress.audiusa.com/  Sedan/Wagon       HYBR  Hybrid Electric   \n",
       " 4  http://progress.audiusa.com/  Sedan/Wagon       HYBR  Hybrid Electric   \n",
       " \n",
       "   Fuel Configuration Name Electric-Only Range  PHEV Total Range PHEV Type  \\\n",
       " 0         Hybrid Electric                 NaN               NaN       NaN   \n",
       " 1         Hybrid Electric                 NaN               NaN       NaN   \n",
       " 2         Hybrid Electric                 NaN               NaN       NaN   \n",
       " 3         Hybrid Electric                 NaN               NaN       NaN   \n",
       " 4         Hybrid Electric                 NaN               NaN       NaN   \n",
       " \n",
       "   Notes Drivetrain  \n",
       " 0   NaN        AWD  \n",
       " 1   NaN        FWD  \n",
       " 2   NaN        AWD  \n",
       " 3   NaN        AWD  \n",
       " 4   NaN        AWD  \n",
       " \n",
       " [5 rows x 29 columns],\n",
       "    Vehicle ID                  Model Manufacturer Transmission Make  \\\n",
       " 0       10941             ACMD-Xpert      Autocar           Allison   \n",
       " 1       10773             ACMD-Xpert      Autocar           Allison   \n",
       " 2       11099             ACMD-Xpert      Autocar           Allison   \n",
       " 3       11209  ACTT Terminal Tractor      Autocar             Vorza   \n",
       " 4       11208  ACTT Terminal Tractor      Autocar           Allison   \n",
       " \n",
       "   Num Passengers Power System Ids  \\\n",
       " 0            NaN          [10013]   \n",
       " 1            NaN          [10013]   \n",
       " 2            NaN          [10013]   \n",
       " 3            NaN          [10562]   \n",
       " 4            NaN          [10505]   \n",
       " \n",
       "                                                Fuels  Application Categories  \\\n",
       " 0  CNG - Compressed Natural Gas|LNG - Liquified N...          Street Sweeper   \n",
       " 1  CNG - Compressed Natural Gas|LNG - Liquified N...  Vocational/Cab Chassis   \n",
       " 2  CNG - Compressed Natural Gas|LNG - Liquified N...                  Refuse   \n",
       " 3                                           Electric                 Tractor   \n",
       " 4  CNG - Compressed Natural Gas|LNG - Liquified N...                 Tractor   \n",
       " \n",
       "   Transmission Types  \n",
       " 0                NaN  \n",
       " 1                NaN  \n",
       " 2                NaN  \n",
       " 3          Automatic  \n",
       " 4                NaN  )"
      ]
     },
     "execution_count": 54,
     "metadata": {},
     "output_type": "execute_result"
    }
   ],
   "source": [
    "# Re-loading the CSV files into pandas DataFrames\n",
    "df_alternative_fuel = pd.read_csv(f'{extract_folder_path}Alternative Fuel Vehicles US.csv')\n",
    "df_light_duty = pd.read_csv(f'{extract_folder_path}Light Duty Vehicles.csv')\n",
    "df_medium_heavy_duty = pd.read_csv(f'{extract_folder_path}Medium and Heavy Duty Vehicles.csv')\n",
    "\n",
    "# Checking the first few rows of each DataFrame to understand the data\n",
    "df_alternative_fuel.head(), df_light_duty.head(), df_medium_heavy_duty.head()\n"
   ]
  },
  {
   "cell_type": "code",
   "execution_count": 55,
   "id": "44d21343",
   "metadata": {},
   "outputs": [
    {
     "data": {
      "text/html": [
       "<div>\n",
       "<style scoped>\n",
       "    .dataframe tbody tr th:only-of-type {\n",
       "        vertical-align: middle;\n",
       "    }\n",
       "\n",
       "    .dataframe tbody tr th {\n",
       "        vertical-align: top;\n",
       "    }\n",
       "\n",
       "    .dataframe thead th {\n",
       "        text-align: right;\n",
       "    }\n",
       "</style>\n",
       "<table border=\"1\" class=\"dataframe\">\n",
       "  <thead>\n",
       "    <tr style=\"text-align: right;\">\n",
       "      <th></th>\n",
       "      <th>Model</th>\n",
       "      <th>Manufacturer</th>\n",
       "      <th>Fuel</th>\n",
       "      <th>Alternative Fuel Economy City</th>\n",
       "      <th>Alternative Fuel Economy Highway</th>\n",
       "      <th>Alternative Fuel Economy Combined</th>\n",
       "      <th>Conventional Fuel Economy City</th>\n",
       "      <th>Conventional Fuel Economy Highway</th>\n",
       "      <th>Conventional Fuel Economy Combined</th>\n",
       "    </tr>\n",
       "  </thead>\n",
       "  <tbody>\n",
       "    <tr>\n",
       "      <th>0</th>\n",
       "      <td>NSX</td>\n",
       "      <td>Acura</td>\n",
       "      <td>Hybrid Electric</td>\n",
       "      <td>42.860363</td>\n",
       "      <td>41.45098</td>\n",
       "      <td>73.515775</td>\n",
       "      <td>21.0</td>\n",
       "      <td>22.0</td>\n",
       "      <td>21.0</td>\n",
       "    </tr>\n",
       "    <tr>\n",
       "      <th>1</th>\n",
       "      <td>A3</td>\n",
       "      <td>Audi</td>\n",
       "      <td>Hybrid Electric</td>\n",
       "      <td>42.860363</td>\n",
       "      <td>41.45098</td>\n",
       "      <td>73.515775</td>\n",
       "      <td>29.0</td>\n",
       "      <td>38.0</td>\n",
       "      <td>32.0</td>\n",
       "    </tr>\n",
       "    <tr>\n",
       "      <th>2</th>\n",
       "      <td>A3 quattro</td>\n",
       "      <td>Audi</td>\n",
       "      <td>Hybrid Electric</td>\n",
       "      <td>42.860363</td>\n",
       "      <td>41.45098</td>\n",
       "      <td>73.515775</td>\n",
       "      <td>28.0</td>\n",
       "      <td>36.0</td>\n",
       "      <td>31.0</td>\n",
       "    </tr>\n",
       "    <tr>\n",
       "      <th>3</th>\n",
       "      <td>A4 allroad quattro</td>\n",
       "      <td>Audi</td>\n",
       "      <td>Hybrid Electric</td>\n",
       "      <td>42.860363</td>\n",
       "      <td>41.45098</td>\n",
       "      <td>73.515775</td>\n",
       "      <td>24.0</td>\n",
       "      <td>30.0</td>\n",
       "      <td>26.0</td>\n",
       "    </tr>\n",
       "    <tr>\n",
       "      <th>4</th>\n",
       "      <td>A4 quattro</td>\n",
       "      <td>Audi</td>\n",
       "      <td>Hybrid Electric</td>\n",
       "      <td>42.860363</td>\n",
       "      <td>41.45098</td>\n",
       "      <td>73.515775</td>\n",
       "      <td>26.0</td>\n",
       "      <td>34.0</td>\n",
       "      <td>29.0</td>\n",
       "    </tr>\n",
       "  </tbody>\n",
       "</table>\n",
       "</div>"
      ],
      "text/plain": [
       "                Model Manufacturer             Fuel  \\\n",
       "0                 NSX        Acura  Hybrid Electric   \n",
       "1                 A3          Audi  Hybrid Electric   \n",
       "2          A3 quattro         Audi  Hybrid Electric   \n",
       "3  A4 allroad quattro         Audi  Hybrid Electric   \n",
       "4          A4 quattro         Audi  Hybrid Electric   \n",
       "\n",
       "   Alternative Fuel Economy City  Alternative Fuel Economy Highway  \\\n",
       "0                      42.860363                          41.45098   \n",
       "1                      42.860363                          41.45098   \n",
       "2                      42.860363                          41.45098   \n",
       "3                      42.860363                          41.45098   \n",
       "4                      42.860363                          41.45098   \n",
       "\n",
       "   Alternative Fuel Economy Combined  Conventional Fuel Economy City  \\\n",
       "0                          73.515775                            21.0   \n",
       "1                          73.515775                            29.0   \n",
       "2                          73.515775                            28.0   \n",
       "3                          73.515775                            24.0   \n",
       "4                          73.515775                            26.0   \n",
       "\n",
       "   Conventional Fuel Economy Highway  Conventional Fuel Economy Combined  \n",
       "0                               22.0                                21.0  \n",
       "1                               38.0                                32.0  \n",
       "2                               36.0                                31.0  \n",
       "3                               30.0                                26.0  \n",
       "4                               34.0                                29.0  "
      ]
     },
     "execution_count": 55,
     "metadata": {},
     "output_type": "execute_result"
    }
   ],
   "source": [
    "# Selecting relevant columns for fuel efficiency\n",
    "columns_to_use = ['Model', 'Manufacturer', 'Fuel',\n",
    "                  'Alternative Fuel Economy City', 'Alternative Fuel Economy Highway',\n",
    "                  'Alternative Fuel Economy Combined', 'Conventional Fuel Economy City',\n",
    "                  'Conventional Fuel Economy Highway', 'Conventional Fuel Economy Combined']\n",
    "\n",
    "# Creating a combined DataFrame with selected columns\n",
    "df_combined = pd.concat([df_alternative_fuel[columns_to_use], df_light_duty[columns_to_use]])\n",
    "\n",
    "# Handling missing values by replacing them with the mean of the column\n",
    "for column in columns_to_use[3:]:\n",
    "    df_combined[column].fillna(df_combined[column].mean(), inplace=True)\n",
    "\n",
    "# Checking the first few rows of the processed DataFrame\n",
    "df_combined.head()\n"
   ]
  },
  {
   "cell_type": "code",
   "execution_count": 56,
   "id": "76c030e5",
   "metadata": {},
   "outputs": [
    {
     "data": {
      "text/plain": [
       "{'Error': 'Optimization was not successful'}"
      ]
     },
     "execution_count": 56,
     "metadata": {},
     "output_type": "execute_result"
    }
   ],
   "source": [
    "from scipy.optimize import linprog\n",
    "\n",
    "# For the sake of simplicity, we will use a basic linear programming model\n",
    "# Our objective is to maximize fuel efficiency, which in linear programming terms is a minimization problem.\n",
    "# Therefore, we will minimize the negative of fuel efficiency.\n",
    "\n",
    "# Creating the objective function (negative of fuel efficiency for minimization)\n",
    "# We will take the average of city and highway fuel efficiency\n",
    "average_fuel_efficiency = -(df_combined['Conventional Fuel Economy City'] + df_combined['Conventional Fuel Economy Highway']) / 2\n",
    "\n",
    "# Setting the bounds for each variable (each vehicle model)\n",
    "# Assuming no negative fuel efficiency and no upper limit\n",
    "bounds = [(0, None) for _ in range(len(average_fuel_efficiency))]\n",
    "\n",
    "# Running the linear programming optimization\n",
    "# Since it's a simple example, no additional constraints are added\n",
    "res = linprog(average_fuel_efficiency, A_eq=None, b_eq=None, bounds=bounds, method='highs')\n",
    "\n",
    "# Checking if the optimization was successful and printing the result\n",
    "if res.success:\n",
    "    # Finding the index of the model with the highest fuel efficiency\n",
    "    max_efficiency_model_index = res.x.argmax()\n",
    "    # Retrieving the model details\n",
    "    most_efficient_model = df_combined.iloc[max_efficiency_model_index]\n",
    "    result = {\n",
    "        \"Model\": most_efficient_model['Model'],\n",
    "        \"Manufacturer\": most_efficient_model['Manufacturer'],\n",
    "        \"Fuel\": most_efficient_model['Fuel'],\n",
    "        \"Average Fuel Efficiency\": -res.fun\n",
    "    }\n",
    "else:\n",
    "    result = {\"Error\": \"Optimization was not successful\"}\n",
    "\n",
    "result\n"
   ]
  },
  {
   "cell_type": "code",
   "execution_count": 59,
   "id": "dddef749",
   "metadata": {
    "scrolled": true
   },
   "outputs": [
    {
     "data": {
      "text/plain": [
       "{'Manufacturer': array(['Acura', 'Audi', 'Bentley Motors', 'BMW', 'Cadillac', 'Chevrolet',\n",
       "        'Chrysler', 'Ferrari', 'Ford', 'GMC', 'Honda', 'Hyundai', 'Jaguar',\n",
       "        'Jeep', 'Kia', 'Land Rover', 'Lexus', 'Lincoln', 'Lucid USA, Inc.',\n",
       "        'Mazda', 'Mercedes-Benz', 'Mini', 'Mitsubishi', 'Nissan',\n",
       "        'Polestar Automotive USA', 'Porsche', 'Ram', 'Rivian ', 'Tesla',\n",
       "        'Toyota', 'Volkswagen', 'Volvo', 'Kandi', 'Karma', 'Subaru',\n",
       "        'Autocar', 'Battle Motors', 'Blue Bird', 'BYD', 'COBUS Industries',\n",
       "        'Collins Bus Corp.', 'Elgin', 'ENC', 'Freightliner',\n",
       "        'Freightliner Custom Chassis', 'FUSO', 'Gillig', 'Global',\n",
       "        'GM BrightDrop', 'Greenkraft', 'GreenPower Motor Company',\n",
       "        'Heil Environmental', 'Hino', 'Hometown Manufacturing', 'IC Bus',\n",
       "        'International', 'Isuzu', 'Kalmar', 'Kenworth', 'Lion Electric',\n",
       "        'Mack', 'MCI', 'McNeilus', 'Morgan-Olson', 'New Flyer', 'Nitehawk',\n",
       "        'Nova Bus', 'Optimal-EV', 'Orange EV', 'Peterbilt', 'Proterra',\n",
       "        'RAM', 'Schwarze Industries', 'Starcraft', 'Thomas Built', 'TICO',\n",
       "        'Turtle Top', 'TYMCO', 'Utilimaster', 'Van Hool', 'Workhorse',\n",
       "        'Buick', 'BYD Motors', 'Dodge', 'Fiat', 'smart', 'Infiniti',\n",
       "        'McLaren', 'Scion', 'Coda Automotive', 'Vehicle Production Group',\n",
       "        'Fisker Automotive', 'Wheego Electric Cars, Inc.', 'Mercury',\n",
       "        'Saab', 'HUMMER', 'Saturn', 'Solectria', 'QUANTUM-PROCON',\n",
       "        'General Motors EV', 'Plymouth'], dtype=object),\n",
       " 'Fuel': array(['Hybrid Electric', 'Plug-in Hybrid Electric', 'Electric',\n",
       "        'Biodiesel (B20)', 'Ethanol (E85)', 'Hydrogen Fuel Cell',\n",
       "        'CNG - Bi-fuel', 'CNG - Compressed Natural Gas',\n",
       "        'Propane - Bi-fuel', 'Propane',\n",
       "        'LNG - Liquified Natural Gas|CNG - Compressed Natural Gas',\n",
       "        'CNG - Compressed Natural Gas|LNG - Liquified Natural Gas',\n",
       "        'Propane|CNG - Compressed Natural Gas',\n",
       "        'CNG - Compressed Natural Gas|Plug-in Hybrid Electric',\n",
       "        'Diesel/Hybrid Electric',\n",
       "        'Propane - Bi-fuel|CNG - Bi-fuel|Propane|CNG - Compressed Natural Gas|Ethanol (E85)',\n",
       "        'Propane - Bi-fuel|Propane|CNG - Bi-fuel|Ethanol (E85)|CNG - Compressed Natural Gas',\n",
       "        'CNG - Compressed Natural Gas|Propane - Bi-fuel|E85/Hybrid Electric|CNG - Bi-fuel|Propane',\n",
       "        'CNG - Bi-fuel|Ethanol (E85)|CNG - Compressed Natural Gas|Propane|Propane - Bi-fuel',\n",
       "        'Propane - Bi-fuel|Propane|CNG - Compressed Natural Gas|CNG - Bi-fuel',\n",
       "        'CNG - Compressed Natural Gas|Propane',\n",
       "        'CNG - Compressed Natural Gas|Propane - Bi-fuel', 'Methanol'],\n",
       "       dtype=object)}"
      ]
     },
     "execution_count": 59,
     "metadata": {},
     "output_type": "execute_result"
    }
   ],
   "source": [
    "# Checking for unique values in the 'Manufacturer', 'Fuel', and 'Engine Type' columns\n",
    "# Ensuring these columns exist in the dataset\n",
    "existing_columns = df_combined.columns\n",
    "\n",
    "# Preparing to check unique values only for existing columns\n",
    "columns_to_check = ['Manufacturer', 'Fuel', 'Engine Type']\n",
    "columns_to_check = [col for col in columns_to_check if col in existing_columns]\n",
    "\n",
    "# Getting unique values for the existing columns\n",
    "unique_values = {col: df_combined[col].unique() for col in columns_to_check}\n",
    "unique_values\n"
   ]
  },
  {
   "cell_type": "code",
   "execution_count": 60,
   "id": "9893ba13",
   "metadata": {},
   "outputs": [
    {
     "data": {
      "text/plain": [
       "{'Manufacturer': 'Acura',\n",
       " 'Fuel': 'Hybrid Electric',\n",
       " 'Average Fuel Efficiency': 6696.956232932035}"
      ]
     },
     "execution_count": 60,
     "metadata": {},
     "output_type": "execute_result"
    }
   ],
   "source": [
    "# Calculating the average fuel efficiency for each combination of Manufacturer and Fuel\n",
    "# We will use the average of 'Conventional Fuel Economy Combined' for simplicity\n",
    "\n",
    "# Grouping by Manufacturer and Fuel\n",
    "grouped_data = df_combined.groupby(['Manufacturer', 'Fuel']).agg({'Conventional Fuel Economy Combined': 'mean'}).reset_index()\n",
    "\n",
    "# For optimization, we will try to find the combination with the highest average fuel efficiency\n",
    "# The higher the fuel efficiency, the lower the likely emissions\n",
    "\n",
    "# Creating the objective function (negative of average fuel efficiency for minimization)\n",
    "objective_function = -grouped_data['Conventional Fuel Economy Combined']\n",
    "\n",
    "# Setting the bounds for each combination (0 or 1, as we are selecting the combination)\n",
    "bounds = [(0, 1) for _ in range(len(objective_function))]\n",
    "\n",
    "# Running the linear programming optimization\n",
    "res = linprog(objective_function, A_eq=None, b_eq=None, bounds=bounds, method='highs')\n",
    "\n",
    "# Checking if the optimization was successful and printing the result\n",
    "if res.success:\n",
    "    # Finding the index of the combination with the highest average fuel efficiency\n",
    "    optimal_combination_index = res.x.argmax()\n",
    "    # Retrieving the combination details\n",
    "    optimal_combination = grouped_data.iloc[optimal_combination_index]\n",
    "    result = {\n",
    "        \"Manufacturer\": optimal_combination['Manufacturer'],\n",
    "        \"Fuel\": optimal_combination['Fuel'],\n",
    "        \"Average Fuel Efficiency\": -res.fun\n",
    "    }\n",
    "else:\n",
    "    result = {\"Error\": \"Optimization was not successful\"}\n",
    "\n",
    "result\n"
   ]
  },
  {
   "cell_type": "code",
   "execution_count": 61,
   "id": "d54c79ae",
   "metadata": {
    "scrolled": true
   },
   "outputs": [
    {
     "data": {
      "text/plain": [
       "{'Manufacturer': array(['Acura', 'Audi', 'Bentley Motors', 'BMW', 'Cadillac', 'Chevrolet',\n",
       "        'Chrysler', 'Ferrari', 'Ford', 'GMC', 'Honda', 'Hyundai', 'Jaguar',\n",
       "        'Jeep', 'Kia', 'Land Rover', 'Lexus', 'Lincoln', 'Lucid USA, Inc.',\n",
       "        'Mazda', 'Mercedes-Benz', 'Mini', 'Mitsubishi', 'Nissan',\n",
       "        'Polestar Automotive USA', 'Porsche', 'Ram', 'Rivian ', 'Tesla',\n",
       "        'Toyota', 'Volkswagen', 'Volvo', 'Kandi', 'Karma', 'Subaru',\n",
       "        'Autocar', 'Battle Motors', 'Blue Bird', 'BYD', 'COBUS Industries',\n",
       "        'Collins Bus Corp.', 'Elgin', 'ENC', 'Freightliner',\n",
       "        'Freightliner Custom Chassis', 'FUSO', 'Gillig', 'Global',\n",
       "        'GM BrightDrop', 'Greenkraft', 'GreenPower Motor Company',\n",
       "        'Heil Environmental', 'Hino', 'Hometown Manufacturing', 'IC Bus',\n",
       "        'International', 'Isuzu', 'Kalmar', 'Kenworth', 'Lion Electric',\n",
       "        'Mack', 'MCI', 'McNeilus', 'Morgan-Olson', 'New Flyer', 'Nitehawk',\n",
       "        'Nova Bus', 'Optimal-EV', 'Orange EV', 'Peterbilt', 'Proterra',\n",
       "        'RAM', 'Schwarze Industries', 'Starcraft', 'Thomas Built', 'TICO',\n",
       "        'Turtle Top', 'TYMCO', 'Utilimaster', 'Van Hool', 'Workhorse',\n",
       "        'Buick', 'BYD Motors', 'Dodge', 'Fiat', 'smart', 'Infiniti',\n",
       "        'McLaren', 'Scion', 'Coda Automotive', 'Vehicle Production Group',\n",
       "        'Fisker Automotive', 'Wheego Electric Cars, Inc.', 'Mercury',\n",
       "        'Saab', 'HUMMER', 'Saturn', 'Solectria', 'QUANTUM-PROCON',\n",
       "        'General Motors EV', 'Plymouth'], dtype=object),\n",
       " 'Fuel': array(['Hybrid Electric', 'Plug-in Hybrid Electric', 'Electric',\n",
       "        'Biodiesel (B20)', 'Ethanol (E85)', 'Hydrogen Fuel Cell',\n",
       "        'CNG - Bi-fuel', 'CNG - Compressed Natural Gas',\n",
       "        'Propane - Bi-fuel', 'Propane',\n",
       "        'LNG - Liquified Natural Gas|CNG - Compressed Natural Gas',\n",
       "        'CNG - Compressed Natural Gas|LNG - Liquified Natural Gas',\n",
       "        'Propane|CNG - Compressed Natural Gas',\n",
       "        'CNG - Compressed Natural Gas|Plug-in Hybrid Electric',\n",
       "        'Diesel/Hybrid Electric',\n",
       "        'Propane - Bi-fuel|CNG - Bi-fuel|Propane|CNG - Compressed Natural Gas|Ethanol (E85)',\n",
       "        'Propane - Bi-fuel|Propane|CNG - Bi-fuel|Ethanol (E85)|CNG - Compressed Natural Gas',\n",
       "        'CNG - Compressed Natural Gas|Propane - Bi-fuel|E85/Hybrid Electric|CNG - Bi-fuel|Propane',\n",
       "        'CNG - Bi-fuel|Ethanol (E85)|CNG - Compressed Natural Gas|Propane|Propane - Bi-fuel',\n",
       "        'Propane - Bi-fuel|Propane|CNG - Compressed Natural Gas|CNG - Bi-fuel',\n",
       "        'CNG - Compressed Natural Gas|Propane',\n",
       "        'CNG - Compressed Natural Gas|Propane - Bi-fuel', 'Methanol'],\n",
       "       dtype=object)}"
      ]
     },
     "execution_count": 61,
     "metadata": {},
     "output_type": "execute_result"
    }
   ],
   "source": [
    "# Checking for unique values in the 'Manufacturer', 'Fuel', and 'Engine Type' columns\n",
    "# Ensuring these columns exist in the dataset\n",
    "existing_columns = df_combined.columns\n",
    "\n",
    "# Preparing to check unique values only for existing columns\n",
    "columns_to_check = ['Manufacturer', 'Fuel', 'Engine Type']\n",
    "columns_to_check = [col for col in columns_to_check if col in existing_columns]\n",
    "\n",
    "# Getting unique values for the existing columns\n",
    "unique_values = {col: df_combined[col].unique() for col in columns_to_check}\n",
    "unique_values\n"
   ]
  },
  {
   "cell_type": "markdown",
   "id": "682c8998",
   "metadata": {},
   "source": [
    "Acura' 제조사의 'Hybrid Electric' 연료 유형을 사용하는 차량 조합이 가장 높은 평균 연료 효율성을 가지고 있습니다. 이 조합은 배출가스 최소화에 기여할 가능성이 높습니다.\n",
    "\n",
    "\n",
    "제조사: Acura\n",
    "\n",
    "연료 유형: Hybrid Electric\n",
    "\n",
    "평균 연료 효율성: 약 6697 "
   ]
  },
  {
   "cell_type": "markdown",
   "id": "86eb5f43",
   "metadata": {},
   "source": [
    "##### 이런식으로 연료 효율성이 좋은 제조사의 하이브리드 차량에 대해서 보조금 지원을 제공하는 정책을 사용할수있다."
   ]
  },
  {
   "cell_type": "markdown",
   "id": "92bbb56b",
   "metadata": {},
   "source": [
    "# 차량 형태 클러스터링"
   ]
  },
  {
   "cell_type": "code",
   "execution_count": 66,
   "id": "811b3315",
   "metadata": {},
   "outputs": [
    {
     "data": {
      "text/html": [
       "<div>\n",
       "<style scoped>\n",
       "    .dataframe tbody tr th:only-of-type {\n",
       "        vertical-align: middle;\n",
       "    }\n",
       "\n",
       "    .dataframe tbody tr th {\n",
       "        vertical-align: top;\n",
       "    }\n",
       "\n",
       "    .dataframe thead th {\n",
       "        text-align: right;\n",
       "    }\n",
       "</style>\n",
       "<table border=\"1\" class=\"dataframe\">\n",
       "  <thead>\n",
       "    <tr style=\"text-align: right;\">\n",
       "      <th></th>\n",
       "      <th>Model</th>\n",
       "      <th>Manufacturer</th>\n",
       "      <th>Fuel</th>\n",
       "      <th>Fuel_Cluster</th>\n",
       "    </tr>\n",
       "  </thead>\n",
       "  <tbody>\n",
       "    <tr>\n",
       "      <th>0</th>\n",
       "      <td>NSX</td>\n",
       "      <td>Acura</td>\n",
       "      <td>Hybrid Electric</td>\n",
       "      <td>4</td>\n",
       "    </tr>\n",
       "    <tr>\n",
       "      <th>1</th>\n",
       "      <td>A3</td>\n",
       "      <td>Audi</td>\n",
       "      <td>Hybrid Electric</td>\n",
       "      <td>4</td>\n",
       "    </tr>\n",
       "    <tr>\n",
       "      <th>2</th>\n",
       "      <td>A3 quattro</td>\n",
       "      <td>Audi</td>\n",
       "      <td>Hybrid Electric</td>\n",
       "      <td>4</td>\n",
       "    </tr>\n",
       "    <tr>\n",
       "      <th>3</th>\n",
       "      <td>A4 allroad quattro</td>\n",
       "      <td>Audi</td>\n",
       "      <td>Hybrid Electric</td>\n",
       "      <td>4</td>\n",
       "    </tr>\n",
       "    <tr>\n",
       "      <th>4</th>\n",
       "      <td>A4 quattro</td>\n",
       "      <td>Audi</td>\n",
       "      <td>Hybrid Electric</td>\n",
       "      <td>4</td>\n",
       "    </tr>\n",
       "  </tbody>\n",
       "</table>\n",
       "</div>"
      ],
      "text/plain": [
       "                Model Manufacturer             Fuel  Fuel_Cluster\n",
       "0                 NSX        Acura  Hybrid Electric             4\n",
       "1                 A3          Audi  Hybrid Electric             4\n",
       "2          A3 quattro         Audi  Hybrid Electric             4\n",
       "3  A4 allroad quattro         Audi  Hybrid Electric             4\n",
       "4          A4 quattro         Audi  Hybrid Electric             4"
      ]
     },
     "execution_count": 66,
     "metadata": {},
     "output_type": "execute_result"
    }
   ],
   "source": [
    "from sklearn.preprocessing import LabelEncoder\n",
    "from sklearn.cluster import KMeans\n",
    "# Re-loading the CSV files into pandas DataFrames\n",
    "df_alternative_fuel = pd.read_csv(f'{extract_folder_path}Alternative Fuel Vehicles US.csv')\n",
    "df_light_duty = pd.read_csv(f'{extract_folder_path}Light Duty Vehicles.csv')\n",
    "\n",
    "# Creating a combined DataFrame with selected columns\n",
    "columns_to_use = ['Model', 'Manufacturer', 'Fuel']\n",
    "df_combined = pd.concat([df_alternative_fuel[columns_to_use], df_light_duty[columns_to_use]])\n",
    "\n",
    "# Encoding the 'Fuel' column for clustering\n",
    "label_encoder = LabelEncoder()\n",
    "encoded_fuel = label_encoder.fit_transform(df_combined['Fuel'].values)\n",
    "\n",
    "# Reshaping the data for K-Means clustering\n",
    "X = encoded_fuel.reshape(-1, 1)\n",
    "\n",
    "# Performing K-Means clustering\n",
    "n_clusters = 5\n",
    "kmeans = KMeans(n_clusters=n_clusters, random_state=0).fit(X)\n",
    "\n",
    "# Adding the cluster labels to the DataFrame\n",
    "df_combined['Fuel_Cluster'] = kmeans.labels_\n",
    "\n",
    "# Viewing the first few rows with the cluster labels\n",
    "df_combined.head()\n"
   ]
  },
  {
   "cell_type": "code",
   "execution_count": 67,
   "id": "a8532638",
   "metadata": {},
   "outputs": [
    {
     "data": {
      "text/plain": [
       "{'Cluster 0': ['Electric',\n",
       "  'Ethanol (E85)',\n",
       "  'Diesel/Hybrid Electric',\n",
       "  'CNG - Compressed Natural Gas|Propane - Bi-fuel|E85/Hybrid Electric|CNG - Bi-fuel|Propane',\n",
       "  'CNG - Compressed Natural Gas|Propane - Bi-fuel'],\n",
       " 'Cluster 1': ['CNG - Compressed Natural Gas',\n",
       "  'CNG - Compressed Natural Gas|LNG - Liquified Natural Gas',\n",
       "  'CNG - Compressed Natural Gas|Plug-in Hybrid Electric',\n",
       "  'CNG - Bi-fuel|Ethanol (E85)|CNG - Compressed Natural Gas|Propane|Propane - Bi-fuel',\n",
       "  'CNG - Compressed Natural Gas|Propane'],\n",
       " 'Cluster 2': ['Plug-in Hybrid Electric',\n",
       "  'Propane - Bi-fuel',\n",
       "  'Propane',\n",
       "  'Propane|CNG - Compressed Natural Gas',\n",
       "  'Propane - Bi-fuel|CNG - Bi-fuel|Propane|CNG - Compressed Natural Gas|Ethanol (E85)',\n",
       "  'Propane - Bi-fuel|Propane|CNG - Bi-fuel|Ethanol (E85)|CNG - Compressed Natural Gas',\n",
       "  'Propane - Bi-fuel|Propane|CNG - Compressed Natural Gas|CNG - Bi-fuel',\n",
       "  'Methanol'],\n",
       " 'Cluster 3': ['Biodiesel (B20)', 'CNG - Bi-fuel'],\n",
       " 'Cluster 4': ['Hybrid Electric',\n",
       "  'Hydrogen Fuel Cell',\n",
       "  'LNG - Liquified Natural Gas|CNG - Compressed Natural Gas']}"
      ]
     },
     "execution_count": 67,
     "metadata": {},
     "output_type": "execute_result"
    }
   ],
   "source": [
    "# Grouping the data by clusters to see which fuels are in each cluster\n",
    "cluster_summary = df_combined.groupby('Fuel_Cluster')['Fuel'].unique()\n",
    "\n",
    "# Converting the result to a more readable format\n",
    "cluster_summary_readable = {f\"Cluster {cluster}\": fuels.tolist() for cluster, fuels in cluster_summary.items()}\n",
    "cluster_summary_readable\n"
   ]
  },
  {
   "cell_type": "markdown",
   "id": "a7791ac3",
   "metadata": {},
   "source": [
    "Cluster 0: 주로 전기, 에탄올(E85) 및 디젤/하이브리드 전기 차량이 포함됩니다.\n",
    "    \n",
    "Cluster 1: 주로 압축 천연가스(CNG)와 액화 천연가스(LNG)가 혼합된 차량이 포함됩니다.\n",
    "    \n",
    "Cluster 2: 플러그인 하이브리드 전기, 프로판, 메탄올 및 이들의 다양한 조합이 포함됩니다.\n",
    "    \n",
    "Cluster 3: 바이오디젤(B20) 및 CNG 바이-퓨얼 차량이 포함됩니다.\n",
    "    \n",
    "Cluster 4: 하이브리드 전기 및 수소 연료 전지 차량이 포함됩니다."
   ]
  },
  {
   "cell_type": "code",
   "execution_count": 68,
   "id": "26814299",
   "metadata": {},
   "outputs": [
    {
     "data": {
      "text/plain": [
       "0    1608\n",
       "4    1159\n",
       "2     510\n",
       "1     307\n",
       "3     306\n",
       "Name: Fuel_Cluster, dtype: int64"
      ]
     },
     "execution_count": 68,
     "metadata": {},
     "output_type": "execute_result"
    }
   ],
   "source": [
    "# Calculating the number of elements in each cluster\n",
    "cluster_counts = df_combined['Fuel_Cluster'].value_counts()\n",
    "\n",
    "# Sorting the clusters by their counts\n",
    "sorted_cluster_counts = cluster_counts.sort_values(ascending=False)\n",
    "\n",
    "sorted_cluster_counts\n"
   ]
  },
  {
   "cell_type": "markdown",
   "id": "364f1751",
   "metadata": {},
   "source": [
    "Cluster 0: 1608개\n",
    "    \n",
    "Cluster 4: 1159개\n",
    "    \n",
    "Cluster 2: 510개\n",
    "    \n",
    "Cluster 1: 307개\n",
    "    \n",
    "Cluster 3: 306개"
   ]
  },
  {
   "cell_type": "markdown",
   "id": "e81de72d",
   "metadata": {},
   "source": [
    "대체 연료의 중요성: 에탄올(E85)과 같은 대체 연료의 사용은 화석 연료 의존도를 줄이고, 온실가스 배출을 감소시키는 데 기여할 수 있습니다. 이러한 연료는 재생 가능 자원에서 생산되며, 지속 가능한 교통 수단으로의 전환을 촉진합니다.\n",
    "\n",
    "하이브리드 차량의 역할: 하이브리드 차량은 전기 모터와 내연 기관을 결합하여 연료 효율성을 향상시키고 배출가스를 줄입니다. 이는 완전한 전기차로의 전환 과정에서 중요한 중간 단계를 제공합니다."
   ]
  },
  {
   "cell_type": "code",
   "execution_count": null,
   "id": "79c1ec4c",
   "metadata": {},
   "outputs": [],
   "source": []
  }
 ],
 "metadata": {
  "kernelspec": {
   "display_name": "Python 3 (ipykernel)",
   "language": "python",
   "name": "python3"
  },
  "language_info": {
   "codemirror_mode": {
    "name": "ipython",
    "version": 3
   },
   "file_extension": ".py",
   "mimetype": "text/x-python",
   "name": "python",
   "nbconvert_exporter": "python",
   "pygments_lexer": "ipython3",
   "version": "3.9.12"
  }
 },
 "nbformat": 4,
 "nbformat_minor": 5
}
